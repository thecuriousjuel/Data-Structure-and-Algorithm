{
 "cells": [
  {
   "cell_type": "code",
   "execution_count": 2,
   "id": "d119d9ec",
   "metadata": {},
   "outputs": [],
   "source": [
    "def decimal_to_binary(num):\n",
    "    if num == 0:\n",
    "        return 0\n",
    "    \n",
    "    if num == 1:\n",
    "        return 1\n",
    "        \n",
    "    \n",
    "    return decimal_to_binary(num // 2) * 10 + num % 2"
   ]
  },
  {
   "cell_type": "code",
   "execution_count": 3,
   "id": "24b53c85",
   "metadata": {},
   "outputs": [
    {
     "data": {
      "text/plain": [
       "11101001"
      ]
     },
     "execution_count": 3,
     "metadata": {},
     "output_type": "execute_result"
    }
   ],
   "source": [
    "decimal_to_binary(233)"
   ]
  },
  {
   "cell_type": "code",
   "execution_count": null,
   "id": "79855de5",
   "metadata": {},
   "outputs": [],
   "source": []
  }
 ],
 "metadata": {
  "kernelspec": {
   "display_name": "Python 3 (ipykernel)",
   "language": "python",
   "name": "python3"
  },
  "language_info": {
   "codemirror_mode": {
    "name": "ipython",
    "version": 3
   },
   "file_extension": ".py",
   "mimetype": "text/x-python",
   "name": "python",
   "nbconvert_exporter": "python",
   "pygments_lexer": "ipython3",
   "version": "3.8.12"
  }
 },
 "nbformat": 4,
 "nbformat_minor": 5
}
