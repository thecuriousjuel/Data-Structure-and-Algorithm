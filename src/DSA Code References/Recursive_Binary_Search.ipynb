{
 "cells": [
  {
   "cell_type": "code",
   "execution_count": 1,
   "id": "0f6ebbad",
   "metadata": {},
   "outputs": [],
   "source": [
    "import random"
   ]
  },
  {
   "cell_type": "code",
   "execution_count": 117,
   "id": "7e348871",
   "metadata": {},
   "outputs": [],
   "source": [
    "def binary_search(my_list, start, end, search_num):\n",
    "    mid = (start + end) // 2\n",
    "        \n",
    "    if start > end:\n",
    "        return -1\n",
    "    \n",
    "    if search_num < my_list[mid]:\n",
    "        end = mid - 1\n",
    "        return binary_search(my_list, start, end, search_num)\n",
    "        \n",
    "    elif search_num > my_list[mid]:\n",
    "        start = mid + 1\n",
    "        return binary_search(my_list, start, end, search_num)\n",
    "    \n",
    "    \n",
    "    return mid\n",
    "        "
   ]
  },
  {
   "cell_type": "code",
   "execution_count": 122,
   "id": "849b5606",
   "metadata": {},
   "outputs": [
    {
     "name": "stdout",
     "output_type": "stream",
     "text": [
      "My List ->  [1, 3, 4, 18, 32, 44, 56, 59, 93, 94]\n"
     ]
    },
    {
     "data": {
      "text/plain": [
       "9"
      ]
     },
     "execution_count": 122,
     "metadata": {},
     "output_type": "execute_result"
    }
   ],
   "source": [
    "print('My List -> ', sorted(my_list))\n",
    "binary_search(sorted(my_list), 0, len(my_list), 94)"
   ]
  },
  {
   "cell_type": "code",
   "execution_count": 114,
   "id": "6517b6fd",
   "metadata": {},
   "outputs": [
    {
     "data": {
      "text/plain": [
       "[93, 3, 4, 56, 18, 59, 94, 32, 1, 44]"
      ]
     },
     "execution_count": 114,
     "metadata": {},
     "output_type": "execute_result"
    }
   ],
   "source": [
    "my_list = []\n",
    "\n",
    "for i in range(10):\n",
    "    my_list.append(random.randint(0, 100))\n",
    "    \n",
    "my_list"
   ]
  },
  {
   "cell_type": "code",
   "execution_count": null,
   "id": "2e80d85f",
   "metadata": {},
   "outputs": [],
   "source": []
  }
 ],
 "metadata": {
  "kernelspec": {
   "display_name": "Python 3 (ipykernel)",
   "language": "python",
   "name": "python3"
  },
  "language_info": {
   "codemirror_mode": {
    "name": "ipython",
    "version": 3
   },
   "file_extension": ".py",
   "mimetype": "text/x-python",
   "name": "python",
   "nbconvert_exporter": "python",
   "pygments_lexer": "ipython3",
   "version": "3.8.12"
  }
 },
 "nbformat": 4,
 "nbformat_minor": 5
}
