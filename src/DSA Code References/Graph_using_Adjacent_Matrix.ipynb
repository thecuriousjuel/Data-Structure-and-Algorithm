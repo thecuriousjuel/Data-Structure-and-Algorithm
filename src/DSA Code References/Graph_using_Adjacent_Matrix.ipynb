{
 "cells": [
  {
   "cell_type": "code",
   "execution_count": 1,
   "id": "0a2d155b",
   "metadata": {},
   "outputs": [],
   "source": [
    "class Graph_using_Matrix:\n",
    "    def __init__(self, type):\n",
    "        self.node_count = 0\n",
    "        self.nodes = []\n",
    "        self.graph = []\n",
    "        self.type = type\n",
    "        \n",
    "\n",
    "    def add_node(self, v):\n",
    "        if v in self.nodes:\n",
    "            return 'Node is already present!'\n",
    "\n",
    "        self.nodes.append(v)\n",
    "        self.node_count += 1\n",
    "        \n",
    "        for node in self.graph:\n",
    "            node.append(0)\n",
    "\n",
    "        temp = []\n",
    "        for i in range(self.node_count):\n",
    "            temp.append(0)\n",
    "            \n",
    "        self.graph.append(temp)\n",
    "        \n",
    "        \n",
    "    def add_edge(self, v1, v2, cost=1):\n",
    "        if v1 not in self.nodes:\n",
    "            return 'Source node is not present.'\n",
    "        \n",
    "        if v2 not in self.nodes:\n",
    "            return 'Destination node is not present.'\n",
    "        \n",
    "        source_index = 0\n",
    "        destination_index = 0\n",
    "        \n",
    "        for i in range(len(self.nodes)):\n",
    "            if self.nodes[i] == v1:\n",
    "                source_index = i\n",
    "            \n",
    "            if self.nodes[i] == v2:\n",
    "                destination_index = i\n",
    "                \n",
    "                \n",
    "        self.graph[source_index][destination_index] = cost        \n",
    "        if self.type == 'nd':\n",
    "            self.graph[destination_index][source_index] = cost\n",
    "            \n",
    "            \n",
    "    def remove_node(self, v):\n",
    "        if v not in self.nodes:\n",
    "            return 'Node not present'\n",
    "        index = self.nodes.index(v)\n",
    "        \n",
    "        self.graph.pop(index)\n",
    "        self.nodes.pop(index)\n",
    "        \n",
    "        for i in self.graph:\n",
    "            i.pop(index)\n",
    "            \n",
    "        self.node_count-=1\n",
    "            \n",
    "        return 'Item popped!'\n",
    "    \n",
    "    \n",
    "    def remove_edges(self, v1, v2):\n",
    "        if v1 not in self.nodes:\n",
    "            print('Source Node not present.')\n",
    "            \n",
    "        if v2 not in self.nodes:\n",
    "            print('Destination Node not present.')\n",
    "            \n",
    "        source_index = self.nodes.index(v1)\n",
    "        destination_index = self.nodes.index(v2)\n",
    "        \n",
    "        if self.graph[source_index][destination_index] == 0:\n",
    "                return 'Edge already removed!'\n",
    "            \n",
    "        self.graph[source_index][destination_index] = 0\n",
    "            \n",
    "        \n",
    "        if not self.type == 'd':\n",
    "            self.graph[destination_index][source_index] = 0\n",
    "            \n",
    "        return 'Edge removed.'\n",
    "    \n",
    "    \n",
    "#     def shortest_path(self, src, des):\n",
    "#         `\n",
    "        \n",
    "        \n",
    "    def print_count(self):\n",
    "        print('  ', end='')\n",
    "        for row in self.nodes:\n",
    "            print(row, end=' ')\n",
    "            \n",
    "        print()\n",
    "            \n",
    "        letter = 0\n",
    "        for row in self.graph:\n",
    "            print(self.nodes[letter], end=' ')\n",
    "            for col in row:\n",
    "                print(col, end=' ')\n",
    "                \n",
    "            print()\n",
    "            letter += 1\n",
    "    "
   ]
  },
  {
   "cell_type": "code",
   "execution_count": null,
   "id": "02a90452",
   "metadata": {},
   "outputs": [],
   "source": [
    "# d -> directed | nd -> not directed\n",
    "g = Graph_using_Matrix('nd')\n",
    "\n",
    "g.add_node('A')\n",
    "g.add_node('B')\n",
    "g.add_node('C')\n",
    "g.add_node('D')\n",
    "g.add_node('E')\n",
    "g.print_count()"
   ]
  },
  {
   "cell_type": "code",
   "execution_count": null,
   "id": "8d17873a",
   "metadata": {},
   "outputs": [],
   "source": [
    "print(g.add_edge('A', 'B', 10))\n",
    "g.print_count()"
   ]
  },
  {
   "cell_type": "code",
   "execution_count": null,
   "id": "f297af44",
   "metadata": {},
   "outputs": [],
   "source": [
    "print(g.add_edge('A', 'D', 4))\n",
    "g.print_count()"
   ]
  },
  {
   "cell_type": "code",
   "execution_count": null,
   "id": "b62045b1",
   "metadata": {},
   "outputs": [],
   "source": [
    "print(g.add_edge('A', 'C', 5))\n",
    "g.print_count()"
   ]
  },
  {
   "cell_type": "code",
   "execution_count": null,
   "id": "15b15e46",
   "metadata": {},
   "outputs": [],
   "source": [
    "print(g.add_edge('B', 'E', 3))\n",
    "g.print_count()"
   ]
  },
  {
   "cell_type": "code",
   "execution_count": null,
   "id": "540c54bf",
   "metadata": {},
   "outputs": [],
   "source": [
    "print(g.add_edge('B', 'D', 7))\n",
    "g.print_count()"
   ]
  },
  {
   "cell_type": "code",
   "execution_count": null,
   "id": "e02b6834",
   "metadata": {},
   "outputs": [],
   "source": [
    "print(g.add_edge('E', 'D', 2))\n",
    "g.print_count()"
   ]
  },
  {
   "cell_type": "code",
   "execution_count": null,
   "id": "f54d47a2",
   "metadata": {},
   "outputs": [],
   "source": [
    "print(g.remove_node('E'))\n",
    "g.print_count()"
   ]
  },
  {
   "cell_type": "code",
   "execution_count": null,
   "id": "42ca3d2b",
   "metadata": {},
   "outputs": [],
   "source": [
    "print(g.remove_node('D'))\n",
    "g.print_count()"
   ]
  },
  {
   "cell_type": "code",
   "execution_count": null,
   "id": "ff7cb3c6",
   "metadata": {},
   "outputs": [],
   "source": [
    "print(g.remove_edges('C', 'A'))\n",
    "g.print_count()"
   ]
  }
 ],
 "metadata": {
  "kernelspec": {
   "display_name": "Python 3 (ipykernel)",
   "language": "python",
   "name": "python3"
  },
  "language_info": {
   "codemirror_mode": {
    "name": "ipython",
    "version": 3
   },
   "file_extension": ".py",
   "mimetype": "text/x-python",
   "name": "python",
   "nbconvert_exporter": "python",
   "pygments_lexer": "ipython3",
   "version": "3.8.12"
  }
 },
 "nbformat": 4,
 "nbformat_minor": 5
}
