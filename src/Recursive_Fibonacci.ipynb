{
 "cells": [
  {
   "cell_type": "markdown",
   "id": "b362fcd3",
   "metadata": {},
   "source": [
    "# Normal Approach "
   ]
  },
  {
   "cell_type": "code",
   "execution_count": 7,
   "id": "a3fc9e65",
   "metadata": {},
   "outputs": [
    {
     "name": "stdout",
     "output_type": "stream",
     "text": [
      "CPU times: total: 0 ns\n",
      "Wall time: 0 ns\n"
     ]
    },
    {
     "data": {
      "text/plain": [
       "13"
      ]
     },
     "execution_count": 7,
     "metadata": {},
     "output_type": "execute_result"
    }
   ],
   "source": [
    "%%time\n",
    "\n",
    "def fib_normal(n):\n",
    "    if n <= 1:\n",
    "        return n\n",
    "    \n",
    "    else:\n",
    "        return fib_normal(n - 2) + fib_normal(n - 1)\n",
    "    \n",
    "fib_normal(8-1)"
   ]
  },
  {
   "cell_type": "raw",
   "id": "bade2f22",
   "metadata": {},
   "source": [
    "0 1 1 2 3 5 8 13 "
   ]
  },
  {
   "cell_type": "markdown",
   "id": "defeb359",
   "metadata": {},
   "source": [
    "# Using Dynamic Programming"
   ]
  },
  {
   "cell_type": "code",
   "execution_count": 2,
   "id": "8832220d",
   "metadata": {},
   "outputs": [
    {
     "name": "stdout",
     "output_type": "stream",
     "text": [
      "CPU times: total: 0 ns\n",
      "Wall time: 0 ns\n"
     ]
    }
   ],
   "source": [
    "%%time\n",
    "\n",
    "def fib(n):\n",
    "#     print(my_dict)\n",
    "    if n == 0 or n == 1:\n",
    "        return n\n",
    "    \n",
    "    if n in my_dict.keys():\n",
    "        return my_dict[n]\n",
    "    \n",
    "    value1 = fib(n-2) \n",
    "    value2 = fib(n-1)\n",
    "    \n",
    "    \n",
    "    my_dict[n-2] = value1\n",
    "    my_dict[n-1] = value2\n",
    "    \n",
    "    return value1 + value2\n",
    "\n",
    "my_dict = dict()"
   ]
  },
  {
   "cell_type": "code",
   "execution_count": 3,
   "id": "d0d1e51d",
   "metadata": {},
   "outputs": [
    {
     "data": {
      "text/plain": [
       "102334155"
      ]
     },
     "execution_count": 3,
     "metadata": {},
     "output_type": "execute_result"
    }
   ],
   "source": [
    "fib(40)"
   ]
  },
  {
   "cell_type": "code",
   "execution_count": null,
   "id": "1e47fd41",
   "metadata": {},
   "outputs": [],
   "source": []
  }
 ],
 "metadata": {
  "kernelspec": {
   "display_name": "Python 3 (ipykernel)",
   "language": "python",
   "name": "python3"
  },
  "language_info": {
   "codemirror_mode": {
    "name": "ipython",
    "version": 3
   },
   "file_extension": ".py",
   "mimetype": "text/x-python",
   "name": "python",
   "nbconvert_exporter": "python",
   "pygments_lexer": "ipython3",
   "version": "3.8.12"
  }
 },
 "nbformat": 4,
 "nbformat_minor": 5
}
