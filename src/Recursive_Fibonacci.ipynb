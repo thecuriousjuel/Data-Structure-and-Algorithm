{
 "cells": [
  {
   "cell_type": "code",
   "execution_count": 31,
   "id": "8832220d",
   "metadata": {},
   "outputs": [],
   "source": [
    "def fib(n):\n",
    "#     print(my_dict)\n",
    "    if n == 0 or n == 1:\n",
    "        return n\n",
    "    \n",
    "    if n in my_dict.keys():\n",
    "        return my_dict[n]\n",
    "    \n",
    "    value1 = fib(n-2) \n",
    "    value2 = fib(n-1)\n",
    "    \n",
    "    \n",
    "    my_dict[n-2] = value1\n",
    "    my_dict[n-1] = value2\n",
    "    \n",
    "    return value1 + value2\n",
    "\n",
    "my_dict = dict()"
   ]
  },
  {
   "cell_type": "code",
   "execution_count": 35,
   "id": "d0d1e51d",
   "metadata": {},
   "outputs": [
    {
     "data": {
      "text/plain": [
       "12586269025"
      ]
     },
     "execution_count": 35,
     "metadata": {},
     "output_type": "execute_result"
    }
   ],
   "source": [
    "fib(50)"
   ]
  },
  {
   "cell_type": "code",
   "execution_count": null,
   "id": "1e47fd41",
   "metadata": {},
   "outputs": [],
   "source": []
  }
 ],
 "metadata": {
  "kernelspec": {
   "display_name": "Python 3 (ipykernel)",
   "language": "python",
   "name": "python3"
  },
  "language_info": {
   "codemirror_mode": {
    "name": "ipython",
    "version": 3
   },
   "file_extension": ".py",
   "mimetype": "text/x-python",
   "name": "python",
   "nbconvert_exporter": "python",
   "pygments_lexer": "ipython3",
   "version": "3.8.12"
  }
 },
 "nbformat": 4,
 "nbformat_minor": 5
}
