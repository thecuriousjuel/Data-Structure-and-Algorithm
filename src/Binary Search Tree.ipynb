{
 "cells": [
  {
   "cell_type": "code",
   "execution_count": null,
   "id": "18204051",
   "metadata": {},
   "outputs": [],
   "source": [
    "class Node:\n",
    "    def __init__(self, data):\n",
    "        self.data = data\n",
    "        self.left = None\n",
    "        self.right = None\n",
    "        \n",
    "        \n",
    "class Tree:\n",
    "    def __init__(self):\n",
    "        self.root = None\n",
    "        \n",
    "        \n",
    "    def create_bst(self, parent_node, new_node):\n",
    "        if new_node.data < parent_node.data:\n",
    "            if parent_node.left == None:\n",
    "                parent_node.left = new_node\n",
    "            else:\n",
    "                self.create_bst(parent_node.left, new_node)\n",
    "                \n",
    "        else:\n",
    "            if parent_node.right == None:\n",
    "                parent_node.right = new_node\n",
    "            else:\n",
    "                self.create_bst(parent_node.right, new_node)\n",
    "        \n",
    "        \n",
    "    def insert(self, data):\n",
    "        new_node = Node(data)\n",
    "        if self.root == None:\n",
    "            self.root = new_node\n",
    "        else:\n",
    "            self.create_bst(self.root, new_node)"
   ]
  }
 ],
 "metadata": {
  "kernelspec": {
   "display_name": "Python 3 (ipykernel)",
   "language": "python",
   "name": "python3"
  },
  "language_info": {
   "codemirror_mode": {
    "name": "ipython",
    "version": 3
   },
   "file_extension": ".py",
   "mimetype": "text/x-python",
   "name": "python",
   "nbconvert_exporter": "python",
   "pygments_lexer": "ipython3",
   "version": "3.8.12"
  }
 },
 "nbformat": 4,
 "nbformat_minor": 5
}
