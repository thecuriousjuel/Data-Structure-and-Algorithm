{
 "cells": [
  {
   "cell_type": "code",
   "execution_count": 9,
   "id": "a11517fb",
   "metadata": {},
   "outputs": [
    {
     "name": "stdout",
     "output_type": "stream",
     "text": [
      "0 <- Head\n",
      "----------\n",
      "1 <- Head\n",
      "0\n",
      "----------\n",
      "2 <- Head\n",
      "1\n",
      "0\n",
      "----------\n",
      "3 <- Head\n",
      "2\n",
      "1\n",
      "0\n",
      "----------\n",
      "4 <- Head\n",
      "3\n",
      "2\n",
      "1\n",
      "0\n",
      "----------\n",
      "3 <- Head\n",
      "2\n",
      "1\n",
      "0\n",
      "----------\n"
     ]
    }
   ],
   "source": [
    "from random import randint\n",
    "\n",
    "class Node:\n",
    "    def __init__(self, data):\n",
    "        self.data = data\n",
    "        self.next = None\n",
    "        \n",
    "class Stacks:\n",
    "    def __init__(self):\n",
    "        self.head = None\n",
    "        self.size = 0\n",
    "        \n",
    "        \n",
    "    def push(self, data):\n",
    "        new_node = Node(data)\n",
    "        if self.head == None:\n",
    "            self.head = new_node\n",
    "            \n",
    "        else:\n",
    "            new_node.next = self.head\n",
    "            self.head = new_node\n",
    "            \n",
    "        self.size += 1\n",
    "        \n",
    "            \n",
    "    def pop(self):\n",
    "        self.head = self.head.next\n",
    "        self.size -= 1\n",
    "        \n",
    "    \n",
    "    def get_element_from_end(self, n):\n",
    "        current = self.head\n",
    "        count = 0\n",
    "        i = self.size - n\n",
    "        while current:\n",
    "            if i == count:\n",
    "                return current.data\n",
    "            \n",
    "            count += 1\n",
    "            \n",
    "            current = current.next\n",
    "            \n",
    "        return 'Not Present!'\n",
    "        \n",
    "        \n",
    "        \n",
    "            \n",
    "    def display(self):\n",
    "        current = self.head\n",
    "        flag = 0\n",
    "        while current:\n",
    "            if flag == 0:\n",
    "                print(current.data, '<- Head')\n",
    "                flag = 1\n",
    "                \n",
    "            else:\n",
    "                print(current.data)\n",
    "            \n",
    "            current = current.next\n",
    "            \n",
    "        print('-' * 10)\n",
    "\n",
    "        \n",
    "        \n",
    "\n",
    "stacks = Stacks()\n",
    "for i in range(5): \n",
    "    stacks.push(i)\n",
    "    stacks.display()\n",
    "\n",
    "stacks.pop()\n",
    "stacks.display()"
   ]
  },
  {
   "cell_type": "code",
   "execution_count": 11,
   "id": "699033f3",
   "metadata": {},
   "outputs": [
    {
     "data": {
      "text/plain": [
       "'Not Present!'"
      ]
     },
     "execution_count": 11,
     "metadata": {},
     "output_type": "execute_result"
    }
   ],
   "source": [
    "stacks.get_element_from_end(6)"
   ]
  },
  {
   "cell_type": "code",
   "execution_count": null,
   "id": "d7dc6131",
   "metadata": {},
   "outputs": [],
   "source": []
  }
 ],
 "metadata": {
  "kernelspec": {
   "display_name": "Python 3 (ipykernel)",
   "language": "python",
   "name": "python3"
  },
  "language_info": {
   "codemirror_mode": {
    "name": "ipython",
    "version": 3
   },
   "file_extension": ".py",
   "mimetype": "text/x-python",
   "name": "python",
   "nbconvert_exporter": "python",
   "pygments_lexer": "ipython3",
   "version": "3.8.12"
  }
 },
 "nbformat": 4,
 "nbformat_minor": 5
}
