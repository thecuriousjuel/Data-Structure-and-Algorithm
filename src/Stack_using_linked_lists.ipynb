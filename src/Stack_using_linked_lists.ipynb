{
 "cells": [
  {
   "cell_type": "code",
   "execution_count": 25,
   "id": "24fd6f4c",
   "metadata": {},
   "outputs": [
    {
     "name": "stdout",
     "output_type": "stream",
     "text": [
      "0 <- Head\n",
      "----------\n",
      "1 <- Head\n",
      "0\n",
      "----------\n",
      "2 <- Head\n",
      "1\n",
      "0\n",
      "----------\n",
      "3 <- Head\n",
      "2\n",
      "1\n",
      "0\n",
      "----------\n",
      "4 <- Head\n",
      "3\n",
      "2\n",
      "1\n",
      "0\n",
      "----------\n",
      "5 <- Head\n",
      "4\n",
      "3\n",
      "2\n",
      "1\n",
      "0\n",
      "----------\n",
      "6 <- Head\n",
      "5\n",
      "4\n",
      "3\n",
      "2\n",
      "1\n",
      "0\n",
      "----------\n",
      "7 <- Head\n",
      "6\n",
      "5\n",
      "4\n",
      "3\n",
      "2\n",
      "1\n",
      "0\n",
      "----------\n",
      "8 <- Head\n",
      "7\n",
      "6\n",
      "5\n",
      "4\n",
      "3\n",
      "2\n",
      "1\n",
      "0\n",
      "----------\n",
      "9 <- Head\n",
      "8\n",
      "7\n",
      "6\n",
      "5\n",
      "4\n",
      "3\n",
      "2\n",
      "1\n",
      "0\n",
      "----------\n",
      "8 <- Head\n",
      "7\n",
      "6\n",
      "5\n",
      "4\n",
      "3\n",
      "2\n",
      "1\n",
      "0\n",
      "----------\n"
     ]
    }
   ],
   "source": [
    "from random import randint\n",
    "\n",
    "class Node:\n",
    "    def __init__(self, data):\n",
    "        self.data = data\n",
    "        self.next = None\n",
    "        \n",
    "class Stacks:\n",
    "    def __init__(self):\n",
    "        self.head = None\n",
    "        self.size = 0\n",
    "        \n",
    "        \n",
    "    def push(self, data):\n",
    "        new_node = Node(data)\n",
    "        if self.head == None:\n",
    "            self.head = new_node\n",
    "            \n",
    "        else:\n",
    "            new_node.next = self.head\n",
    "            self.head = new_node\n",
    "            \n",
    "        self.size += 1\n",
    "        \n",
    "            \n",
    "    def pop(self):\n",
    "        self.head = self.head.next\n",
    "        self.size -= 1\n",
    "        \n",
    "    \n",
    "    def get_element_from_end(self, n):\n",
    "        current = self.head\n",
    "        count = 0\n",
    "        i = self.size - n\n",
    "        while current:\n",
    "            if i == count:\n",
    "                return current.data\n",
    "            \n",
    "            count += 1\n",
    "            \n",
    "            current = current.next\n",
    "            \n",
    "        return 'Not Present!'\n",
    "        \n",
    "        \n",
    "    def create_cycle(self):\n",
    "        current = self.head\n",
    "        while current.next != None:\n",
    "            current = current.next\n",
    "        current.next = self.head\n",
    "        \n",
    "        \n",
    "    def detect_cycle(self):\n",
    "        ##########################################\n",
    "        # Algorithm 1\n",
    "        ##########################################\n",
    "#         pointer_1 = self.head\n",
    "#         pointer_2 = self.head.next\n",
    "        \n",
    "#         while pointer_1:\n",
    "#             print(pointer_1.data, pointer_2.data)\n",
    "#             if pointer_1 is pointer_2:\n",
    "#                 return 'Cycle Found!'\n",
    "#             pointer_1 = pointer_1.next\n",
    "#             pointer_2 = pointer_2.next\n",
    "#             pointer_2 = pointer_2.next\n",
    "            \n",
    "#         return 'Cycle not Found!'\n",
    "\n",
    "\n",
    "        ##########################################\n",
    "        # Algorithm 2\n",
    "        ##########################################\n",
    "        \n",
    "    \n",
    "    \n",
    "            \n",
    "        \n",
    "        \n",
    "            \n",
    "    def display(self):\n",
    "        current = self.head\n",
    "        flag = 0\n",
    "        while current:\n",
    "            if flag == 0:\n",
    "                print(current.data, '<- Head')\n",
    "                flag = 1\n",
    "                \n",
    "            else:\n",
    "                print(current.data)\n",
    "            \n",
    "            current = current.next\n",
    "            \n",
    "        print('-' * 10)\n",
    "\n",
    "        \n",
    "        \n",
    "\n",
    "stacks = Stacks()\n",
    "for i in range(10): \n",
    "    stacks.push(i)\n",
    "    stacks.display()\n",
    "\n",
    "stacks.pop()\n",
    "stacks.display()"
   ]
  },
  {
   "cell_type": "code",
   "execution_count": 26,
   "id": "fbf1e3f0",
   "metadata": {},
   "outputs": [],
   "source": [
    "stacks.create_cycle()"
   ]
  },
  {
   "cell_type": "code",
   "execution_count": 27,
   "id": "c6da0f9a",
   "metadata": {},
   "outputs": [
    {
     "name": "stdout",
     "output_type": "stream",
     "text": [
      "8 7\n",
      "7 5\n",
      "6 3\n",
      "5 1\n",
      "4 8\n",
      "3 6\n",
      "2 4\n",
      "1 2\n",
      "0 0\n"
     ]
    },
    {
     "data": {
      "text/plain": [
       "'Cycle Found!'"
      ]
     },
     "execution_count": 27,
     "metadata": {},
     "output_type": "execute_result"
    }
   ],
   "source": [
    "stacks.detect_cycle()"
   ]
  },
  {
   "cell_type": "code",
   "execution_count": 28,
   "id": "1ebed91f",
   "metadata": {},
   "outputs": [
    {
     "data": {
      "text/plain": [
       "<__main__.Stacks at 0x1f626e8fa60>"
      ]
     },
     "execution_count": 28,
     "metadata": {},
     "output_type": "execute_result"
    }
   ],
   "source": [
    "stacks"
   ]
  },
  {
   "cell_type": "code",
   "execution_count": 32,
   "id": "51c05e53",
   "metadata": {},
   "outputs": [
    {
     "data": {
      "text/plain": [
       "2156726385248"
      ]
     },
     "execution_count": 32,
     "metadata": {},
     "output_type": "execute_result"
    }
   ],
   "source": [
    "id(stacks)"
   ]
  },
  {
   "cell_type": "code",
   "execution_count": null,
   "id": "f786260a",
   "metadata": {},
   "outputs": [],
   "source": []
  }
 ],
 "metadata": {
  "kernelspec": {
   "display_name": "Python 3 (ipykernel)",
   "language": "python",
   "name": "python3"
  },
  "language_info": {
   "codemirror_mode": {
    "name": "ipython",
    "version": 3
   },
   "file_extension": ".py",
   "mimetype": "text/x-python",
   "name": "python",
   "nbconvert_exporter": "python",
   "pygments_lexer": "ipython3",
   "version": "3.8.12"
  }
 },
 "nbformat": 4,
 "nbformat_minor": 5
}
