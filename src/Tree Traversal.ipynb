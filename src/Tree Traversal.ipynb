{
 "cells": [
  {
   "cell_type": "code",
   "execution_count": 1,
   "id": "c6da5557",
   "metadata": {},
   "outputs": [],
   "source": [
    "class Node:\n",
    "    def __init__(self, data):\n",
    "        self.data = data\n",
    "        self.left = None\n",
    "        self.right = None\n",
    "      \n",
    "    \n",
    "class Tree:\n",
    "    def __init__(self):\n",
    "        self.root = None\n",
    "        self.queue = []\n",
    "                    \n",
    "\n",
    "    def create_and_insert(self, data):\n",
    "\n",
    "        \n",
    "        \n",
    "    def display(self, root):\n",
    "        if not root:\n",
    "            return\n",
    "        \n",
    "        print(str(root.data), end = ', ')\n",
    "        self.display(root.left)\n",
    "        self.display(root.right)\n"
   ]
  },
  {
   "cell_type": "code",
   "execution_count": 2,
   "id": "26f1744b",
   "metadata": {},
   "outputs": [],
   "source": [
    "tree = Tree()\n",
    "\n",
    "for i in range(10):\n",
    "    tree.create_and_insert(i)"
   ]
  },
  {
   "cell_type": "code",
   "execution_count": null,
   "id": "f6ea7a03",
   "metadata": {},
   "outputs": [],
   "source": []
  },
  {
   "cell_type": "code",
   "execution_count": null,
   "id": "0a9dac11",
   "metadata": {},
   "outputs": [],
   "source": []
  },
  {
   "cell_type": "code",
   "execution_count": null,
   "id": "fe58c446",
   "metadata": {},
   "outputs": [],
   "source": []
  }
 ],
 "metadata": {
  "kernelspec": {
   "display_name": "Python 3 (ipykernel)",
   "language": "python",
   "name": "python3"
  },
  "language_info": {
   "codemirror_mode": {
    "name": "ipython",
    "version": 3
   },
   "file_extension": ".py",
   "mimetype": "text/x-python",
   "name": "python",
   "nbconvert_exporter": "python",
   "pygments_lexer": "ipython3",
   "version": "3.8.12"
  }
 },
 "nbformat": 4,
 "nbformat_minor": 5
}
