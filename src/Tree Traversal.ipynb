{
 "cells": [
  {
   "cell_type": "code",
   "execution_count": 7,
   "id": "c6da5557",
   "metadata": {},
   "outputs": [],
   "source": [
    "class Node:\n",
    "    def __init__(self, data):\n",
    "        self.data = data\n",
    "        self.left = None\n",
    "        self.right = None\n",
    "      \n",
    "    \n",
    "class Tree:\n",
    "    def __init__(self):\n",
    "        self.root = None\n",
    "        \n",
    "    \n",
    "    def insert_node_breadth_wise(self, new_node, parent):\n",
    "        if parent.left == None:\n",
    "            parent.left = new_node\n",
    "            return\n",
    "        \n",
    "        elif parent.right == None:\n",
    "            parent.right = new_node\n",
    "            return\n",
    "\n",
    "        \n",
    "        if parent.left and parent.right:\n",
    "                self.insert_node_breadth_wise(new_node, parent.left)\n",
    "            \n",
    "\n",
    "    def create_and_insert(self, data):\n",
    "        new_node = Node(data)\n",
    "        \n",
    "        if self.root == None:\n",
    "            self.root = new_node\n",
    "            \n",
    "        else:\n",
    "            self.insert_node_breadth_wise(new_node, self.root)\n",
    "        \n",
    "        \n",
    "    def display(self, root):\n",
    "        if not root:\n",
    "            return\n",
    "        \n",
    "        print(str(root.data), end = ', ')\n",
    "#         self.display(root.left)\n",
    "        self.display(root.right)\n"
   ]
  },
  {
   "cell_type": "code",
   "execution_count": 8,
   "id": "26f1744b",
   "metadata": {},
   "outputs": [],
   "source": [
    "tree = Tree()\n",
    "\n",
    "for i in range(10):\n",
    "    tree.create_and_insert(i)"
   ]
  },
  {
   "cell_type": "code",
   "execution_count": 9,
   "id": "a1f4f672",
   "metadata": {
    "scrolled": false
   },
   "outputs": [
    {
     "name": "stdout",
     "output_type": "stream",
     "text": [
      "0, 2, 4, 6, 8, "
     ]
    }
   ],
   "source": [
    "tree.display(tree.root)"
   ]
  },
  {
   "cell_type": "code",
   "execution_count": null,
   "id": "f6ea7a03",
   "metadata": {},
   "outputs": [],
   "source": []
  },
  {
   "cell_type": "code",
   "execution_count": null,
   "id": "0a9dac11",
   "metadata": {},
   "outputs": [],
   "source": []
  },
  {
   "cell_type": "code",
   "execution_count": null,
   "id": "fe58c446",
   "metadata": {},
   "outputs": [],
   "source": []
  },
  {
   "cell_type": "code",
   "execution_count": null,
   "id": "fa770c45",
   "metadata": {},
   "outputs": [],
   "source": []
  },
  {
   "cell_type": "code",
   "execution_count": null,
   "id": "b79a7daa",
   "metadata": {},
   "outputs": [],
   "source": []
  },
  {
   "cell_type": "code",
   "execution_count": null,
   "id": "e3d1139c",
   "metadata": {},
   "outputs": [],
   "source": []
  },
  {
   "cell_type": "code",
   "execution_count": null,
   "id": "b48cc6dc",
   "metadata": {},
   "outputs": [],
   "source": []
  },
  {
   "cell_type": "code",
   "execution_count": null,
   "id": "a512b9fc",
   "metadata": {},
   "outputs": [],
   "source": []
  },
  {
   "cell_type": "code",
   "execution_count": null,
   "id": "bc3201d4",
   "metadata": {},
   "outputs": [],
   "source": []
  },
  {
   "cell_type": "code",
   "execution_count": null,
   "id": "56aef02c",
   "metadata": {},
   "outputs": [],
   "source": []
  },
  {
   "cell_type": "code",
   "execution_count": null,
   "id": "8fd1f377",
   "metadata": {},
   "outputs": [],
   "source": []
  },
  {
   "cell_type": "code",
   "execution_count": null,
   "id": "d334e5ed",
   "metadata": {},
   "outputs": [],
   "source": []
  },
  {
   "cell_type": "code",
   "execution_count": null,
   "id": "58afe663",
   "metadata": {},
   "outputs": [],
   "source": []
  },
  {
   "cell_type": "code",
   "execution_count": null,
   "id": "385b55d1",
   "metadata": {},
   "outputs": [],
   "source": []
  },
  {
   "cell_type": "code",
   "execution_count": null,
   "id": "f12cd7a2",
   "metadata": {},
   "outputs": [],
   "source": []
  },
  {
   "cell_type": "code",
   "execution_count": null,
   "id": "db8a906b",
   "metadata": {},
   "outputs": [],
   "source": []
  }
 ],
 "metadata": {
  "kernelspec": {
   "display_name": "Python 3 (ipykernel)",
   "language": "python",
   "name": "python3"
  },
  "language_info": {
   "codemirror_mode": {
    "name": "ipython",
    "version": 3
   },
   "file_extension": ".py",
   "mimetype": "text/x-python",
   "name": "python",
   "nbconvert_exporter": "python",
   "pygments_lexer": "ipython3",
   "version": "3.8.12"
  }
 },
 "nbformat": 4,
 "nbformat_minor": 5
}
