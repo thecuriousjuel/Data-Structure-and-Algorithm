{
 "cells": [
  {
   "cell_type": "code",
   "execution_count": 8,
   "id": "50c88397",
   "metadata": {},
   "outputs": [],
   "source": [
    "class Node:\n",
    "    def __init__(self, data):\n",
    "        self.data = data\n",
    "        self.next = None\n",
    "        \n",
    "\n",
    "class Queue:\n",
    "    def __init__(self):\n",
    "        self.head = None\n",
    "        self.tail = None\n",
    "        \n",
    "        \n",
    "    def enQueue(self, data):\n",
    "        new_node = Node(data)\n",
    "        if self.head == None:\n",
    "            self.head = new_node\n",
    "            self.tail = new_node\n",
    "        else:\n",
    "            self.tail.next = new_node\n",
    "            self.tail = new_node\n",
    "            \n",
    "            \n",
    "    def deQueue(self):\n",
    "        current = self.head\n",
    "        while current:\n",
    "            if current.next == self.tail:\n",
    "                self.tail = current\n",
    "                break\n",
    "            current = current.next\n",
    "            \n",
    "            \n",
    "    def __str__(self):\n",
    "        current = self.head\n",
    "        mylist = []\n",
    "        while current:\n",
    "            mylist.append(current.data)\n",
    "            current = current.next\n",
    "            \n",
    "        return str(mylist)\n",
    "        "
   ]
  },
  {
   "cell_type": "code",
   "execution_count": 9,
   "id": "92f064a8",
   "metadata": {},
   "outputs": [
    {
     "name": "stdout",
     "output_type": "stream",
     "text": [
      "[]\n",
      "[15]\n",
      "[15, 25, 35, 45]\n",
      "[15, 25, 35, 45]\n"
     ]
    }
   ],
   "source": [
    "queue = Queue()\n",
    "print(queue)\n",
    "queue.enQueue(15)\n",
    "print(queue)\n",
    "queue.enQueue(25)\n",
    "queue.enQueue(35)\n",
    "queue.enQueue(45)\n",
    "print(queue)\n",
    "queue.deQueue()\n",
    "print(queue)"
   ]
  },
  {
   "cell_type": "code",
   "execution_count": null,
   "id": "8fd2b85e",
   "metadata": {},
   "outputs": [],
   "source": []
  }
 ],
 "metadata": {
  "kernelspec": {
   "display_name": "Python 3 (ipykernel)",
   "language": "python",
   "name": "python3"
  },
  "language_info": {
   "codemirror_mode": {
    "name": "ipython",
    "version": 3
   },
   "file_extension": ".py",
   "mimetype": "text/x-python",
   "name": "python",
   "nbconvert_exporter": "python",
   "pygments_lexer": "ipython3",
   "version": "3.8.12"
  }
 },
 "nbformat": 4,
 "nbformat_minor": 5
}
