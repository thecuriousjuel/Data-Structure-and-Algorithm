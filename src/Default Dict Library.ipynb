{
 "cells": [
  {
   "cell_type": "code",
   "execution_count": 1,
   "id": "b4f3318b",
   "metadata": {},
   "outputs": [],
   "source": [
    "from collections import defaultdict"
   ]
  },
  {
   "cell_type": "code",
   "execution_count": 4,
   "id": "11d95df6",
   "metadata": {},
   "outputs": [
    {
     "data": {
      "text/plain": [
       "defaultdict(int, {})"
      ]
     },
     "execution_count": 4,
     "metadata": {},
     "output_type": "execute_result"
    }
   ],
   "source": [
    "s = 'This is an example of huffman encoding!'\n",
    "\n",
    "freq = defaultdict(int)\n",
    "freq"
   ]
  },
  {
   "cell_type": "code",
   "execution_count": 5,
   "id": "d3a5e375",
   "metadata": {},
   "outputs": [
    {
     "data": {
      "text/plain": [
       "defaultdict(int,\n",
       "            {'T': 1,\n",
       "             'h': 2,\n",
       "             'i': 3,\n",
       "             's': 2,\n",
       "             ' ': 6,\n",
       "             'a': 3,\n",
       "             'n': 4,\n",
       "             'e': 3,\n",
       "             'x': 1,\n",
       "             'm': 2,\n",
       "             'p': 1,\n",
       "             'l': 1,\n",
       "             'o': 2,\n",
       "             'f': 3,\n",
       "             'u': 1,\n",
       "             'c': 1,\n",
       "             'd': 1,\n",
       "             'g': 1,\n",
       "             '!': 1})"
      ]
     },
     "execution_count": 5,
     "metadata": {},
     "output_type": "execute_result"
    }
   ],
   "source": [
    "for characters in s:\n",
    "    freq[characters] += 1\n",
    "    \n",
    "freq"
   ]
  },
  {
   "cell_type": "code",
   "execution_count": 9,
   "id": "2ece4251",
   "metadata": {},
   "outputs": [
    {
     "data": {
      "text/plain": [
       "[[1, ['T', '']],\n",
       " [2, ['h', '']],\n",
       " [3, ['i', '']],\n",
       " [2, ['s', '']],\n",
       " [6, [' ', '']],\n",
       " [3, ['a', '']],\n",
       " [4, ['n', '']],\n",
       " [3, ['e', '']],\n",
       " [1, ['x', '']],\n",
       " [2, ['m', '']],\n",
       " [1, ['p', '']],\n",
       " [1, ['l', '']],\n",
       " [2, ['o', '']],\n",
       " [3, ['f', '']],\n",
       " [1, ['u', '']],\n",
       " [1, ['c', '']],\n",
       " [1, ['d', '']],\n",
       " [1, ['g', '']],\n",
       " [1, ['!', '']]]"
      ]
     },
     "execution_count": 9,
     "metadata": {},
     "output_type": "execute_result"
    }
   ],
   "source": [
    "heap = [[freq, [sym, '']] for sym, freq in freq.items()]\n",
    "heap"
   ]
  },
  {
   "cell_type": "code",
   "execution_count": 8,
   "id": "337a83f5",
   "metadata": {},
   "outputs": [],
   "source": [
    "from heapq import heapify"
   ]
  },
  {
   "cell_type": "code",
   "execution_count": 10,
   "id": "5d7b3f6e",
   "metadata": {},
   "outputs": [],
   "source": [
    "heapify(heap)"
   ]
  },
  {
   "cell_type": "code",
   "execution_count": 11,
   "id": "f8685a01",
   "metadata": {},
   "outputs": [
    {
     "data": {
      "text/plain": [
       "[[1, ['!', '']],\n",
       " [1, ['T', '']],\n",
       " [1, ['l', '']],\n",
       " [1, ['c', '']],\n",
       " [1, ['p', '']],\n",
       " [2, ['o', '']],\n",
       " [1, ['u', '']],\n",
       " [1, ['d', '']],\n",
       " [1, ['g', '']],\n",
       " [2, ['m', '']],\n",
       " [6, [' ', '']],\n",
       " [3, ['a', '']],\n",
       " [3, ['i', '']],\n",
       " [3, ['f', '']],\n",
       " [4, ['n', '']],\n",
       " [3, ['e', '']],\n",
       " [2, ['h', '']],\n",
       " [2, ['s', '']],\n",
       " [1, ['x', '']]]"
      ]
     },
     "execution_count": 11,
     "metadata": {},
     "output_type": "execute_result"
    }
   ],
   "source": [
    "heap"
   ]
  },
  {
   "cell_type": "code",
   "execution_count": null,
   "id": "3d5d0bbb",
   "metadata": {},
   "outputs": [],
   "source": [
    " "
   ]
  }
 ],
 "metadata": {
  "kernelspec": {
   "display_name": "Python 3 (ipykernel)",
   "language": "python",
   "name": "python3"
  },
  "language_info": {
   "codemirror_mode": {
    "name": "ipython",
    "version": 3
   },
   "file_extension": ".py",
   "mimetype": "text/x-python",
   "name": "python",
   "nbconvert_exporter": "python",
   "pygments_lexer": "ipython3",
   "version": "3.8.12"
  }
 },
 "nbformat": 4,
 "nbformat_minor": 5
}
