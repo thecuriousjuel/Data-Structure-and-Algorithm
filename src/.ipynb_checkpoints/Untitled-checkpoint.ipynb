{
 "cells": [
  {
   "cell_type": "code",
   "execution_count": 26,
   "id": "80e301b9",
   "metadata": {
    "scrolled": true
   },
   "outputs": [
    {
     "name": "stdout",
     "output_type": "stream",
     "text": [
      "Original Data ->  [4, 3, 2, 10]\n",
      "Swapping 10 to index 2\n",
      "Sorted Data ->  [4, 3, 2, 10]\n"
     ]
    }
   ],
   "source": [
    "def insertion_sort(thislist):\n",
    "    length_of_list = len(thislist)\n",
    "    \n",
    "    i = 1\n",
    "    \n",
    "    while i < length_of_list-1:\n",
    "        \n",
    "        j = i - 1\n",
    "        \n",
    "        if thislist[j] > thislist[i]:\n",
    "            index = i\n",
    "\n",
    "            while index > 0:\n",
    "                if thislist[j] < thislist[index]:\n",
    "                    print(f'{thislist[i]} < {thislist[j]} -> {thislist[i] < thislist[j]}')\n",
    "                    index -= 1\n",
    "                else:\n",
    "                    print(f'Swapping {thislist[j]} to index {index}')\n",
    "                    break\n",
    "            \n",
    "            \n",
    "            \n",
    "        i += 1\n",
    "    return thislist\n",
    "\n",
    "\n",
    "\n",
    "\n",
    "mylist = [4,3,2,10]#,12,1,5,6]\n",
    "print('Original Data -> ', mylist)\n",
    "print('Sorted Data -> ', insertion_sort(mylist))"
   ]
  },
  {
   "cell_type": "code",
   "execution_count": null,
   "id": "348cc1c3",
   "metadata": {},
   "outputs": [],
   "source": [
    "        \n",
    "        \n",
    "        for k in range(j, -1, -1):\n",
    "            print(f'{thislist[i]} < {thislist[j]} -> {thislist[i] < thislist[j]}')"
   ]
  },
  {
   "cell_type": "code",
   "execution_count": null,
   "id": "a369bfba",
   "metadata": {},
   "outputs": [],
   "source": []
  }
 ],
 "metadata": {
  "kernelspec": {
   "display_name": "Python 3 (ipykernel)",
   "language": "python",
   "name": "python3"
  },
  "language_info": {
   "codemirror_mode": {
    "name": "ipython",
    "version": 3
   },
   "file_extension": ".py",
   "mimetype": "text/x-python",
   "name": "python",
   "nbconvert_exporter": "python",
   "pygments_lexer": "ipython3",
   "version": "3.8.12"
  }
 },
 "nbformat": 4,
 "nbformat_minor": 5
}
