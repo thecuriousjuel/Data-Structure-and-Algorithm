{
 "cells": [
  {
   "cell_type": "code",
   "execution_count": null,
   "id": "b535cae4",
   "metadata": {},
   "outputs": [],
   "source": [
    "#User function Template for python3\n",
    "\n",
    "class Solution:\n",
    "    def removeConsecutiveCharacter(self, S):\n",
    "        S += ' '\n",
    "        w = ''\n",
    "        i = 0\n",
    "        \n",
    "        if len(S) == 1:\n",
    "            return S\n",
    "        \n",
    "        while i < len(S) - 1:\n",
    "            # print(S[i], S[i+1])\n",
    "            if S[i] == S[i+1]:\n",
    "                i += 1\n",
    "                continue\n",
    "            \n",
    "            w += S[i]\n",
    "                \n",
    "            i += 1\n",
    "            \n",
    "        if w[-1] == ' ':\n",
    "            w = w[:-1]\n",
    "            \n",
    "        return w\n",
    "\n",
    "#{ \n",
    "#  Driver Code Starts\n",
    "#Initial Template for Python 3\n",
    "\n",
    "if __name__ == '__main__':\n",
    "    T = int(input())\n",
    "\n",
    "    for tcs in range(T):\n",
    "        s = input()\n",
    "        ob = Solution()\n",
    "        print(ob.removeConsecutiveCharacter(s))\n",
    "\n",
    "# } Driver Code Ends"
   ]
  }
 ],
 "metadata": {
  "kernelspec": {
   "display_name": "Python 3 (ipykernel)",
   "language": "python",
   "name": "python3"
  },
  "language_info": {
   "codemirror_mode": {
    "name": "ipython",
    "version": 3
   },
   "file_extension": ".py",
   "mimetype": "text/x-python",
   "name": "python",
   "nbconvert_exporter": "python",
   "pygments_lexer": "ipython3",
   "version": "3.8.12"
  }
 },
 "nbformat": 4,
 "nbformat_minor": 5
}
