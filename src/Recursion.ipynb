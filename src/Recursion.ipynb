{
 "cells": [
  {
   "cell_type": "code",
<<<<<<< HEAD
   "execution_count": 1,
   "id": "958cd369",
   "metadata": {},
   "outputs": [],
   "source": [
    "def fib(n):\n",
    "    if n <= 2:\n",
    "        return 1\n",
    "    \n",
    "    return fib(n-1) + fib(n-2)"
   ]
  },
  {
   "cell_type": "code",
   "execution_count": 2,
   "id": "076a65c3",
   "metadata": {},
   "outputs": [
    {
     "data": {
      "text/plain": [
       "5"
      ]
     },
     "execution_count": 2,
     "metadata": {},
     "output_type": "execute_result"
    }
   ],
   "source": [
    "fib(5)"
   ]
  },
  {
   "cell_type": "code",
   "execution_count": 3,
   "id": "27b3dfe6",
   "metadata": {},
   "outputs": [
    {
     "data": {
      "text/plain": [
       "55"
      ]
     },
     "execution_count": 3,
     "metadata": {},
     "output_type": "execute_result"
    }
   ],
   "source": [
    "fib(10)"
   ]
  },
  {
   "cell_type": "code",
   "execution_count": 4,
   "id": "9dff9c8a",
   "metadata": {},
   "outputs": [],
   "source": [
    "# fib(50)"
   ]
  },
  {
   "cell_type": "code",
   "execution_count": 8,
   "id": "307554f2",
   "metadata": {},
=======
   "execution_count": 30,
   "id": "9440e10a",
   "metadata": {
    "scrolled": true
   },
>>>>>>> c791bcad9c50e579a33951fbafcf7a76306dc8fc
   "outputs": [
    {
     "name": "stdout",
     "output_type": "stream",
     "text": [
<<<<<<< HEAD
      "5\n",
      "4\n",
      "3\n",
      "2\n",
      "--------------------------------------------------\n",
      "--------------------------------------------------\n",
      "2\n",
      "--------------------------------------------------\n",
      "--------------------------------------------------\n",
      "3\n",
      "2\n",
      "--------------------------------------------------\n",
      "--------------------------------------------------\n",
      "2\n",
      "--------------------------------------------------\n",
      "--------------------------------------------------\n",
      "4\n",
      "3\n",
      "2\n",
      "--------------------------------------------------\n",
      "--------------------------------------------------\n",
      "2\n",
      "--------------------------------------------------\n",
      "--------------------------------------------------\n",
      "3\n",
      "2\n",
      "--------------------------------------------------\n",
      "--------------------------------------------------\n",
      "2\n",
      "--------------------------------------------------\n"
=======
      "Original Data ->  [4, 3, 2, 10]\n",
      "4 > 3 -> True\n",
      "3 > 2 -> True\n",
      "Swapping 3 to index 1\n",
      "Sorted Data ->  [4, 3, 2, 10]\n"
>>>>>>> c791bcad9c50e579a33951fbafcf7a76306dc8fc
     ]
    }
   ],
   "source": [
<<<<<<< HEAD
    "def fun(n):\n",
    "    if n <=1:\n",
    "        return\n",
    "    \n",
    "    print(n)\n",
    "    \n",
    "    fun(n-1)\n",
    "    print('-' * 50)\n",
    "    fun(n-1)\n",
    "    \n",
    "fun(5)"
=======
    "def insertion_sort(thislist):\n",
    "    length_of_list = len(thislist)\n",
    "    \n",
    "    i = 1\n",
    "    \n",
    "    while i < length_of_list-1:\n",
    "        \n",
    "        j = i - 1\n",
    "        \n",
    "        if thislist[j] > thislist[i]:\n",
    "            index = i\n",
    "\n",
    "            while index > 0:\n",
    "                if thislist[j] > thislist[index]:\n",
    "                    print(f'{thislist[j]} > {thislist[index]} -> {thislist[j] > thislist[index]}')\n",
    "                    index -= 1\n",
    "                else:\n",
    "                    k = 0\n",
    "                    while k < length_of_list:\n",
    "                        if k == index:\n",
    "                            \n",
    "                        \n",
    "                        \n",
    "                        k += 1\n",
    "                    print(f'Swapping {thislist[j]} to index {index}')\n",
    "                    break\n",
    "            \n",
    "            \n",
    "            \n",
    "        i += 1\n",
    "    return thislist\n",
    "\n",
    "\n",
    "\n",
    "\n",
    "mylist = [4,3,2,10]#,12,1,5,6]\n",
    "print('Original Data -> ', mylist)\n",
    "print('Sorted Data -> ', insertion_sort(mylist))"
>>>>>>> c791bcad9c50e579a33951fbafcf7a76306dc8fc
   ]
  },
  {
   "cell_type": "code",
   "execution_count": null,
<<<<<<< HEAD
   "id": "858d3883",
=======
   "id": "b241553d",
   "metadata": {},
   "outputs": [],
   "source": [
    "        \n",
    "        \n",
    "        for k in range(j, -1, -1):\n",
    "            print(f'{thislist[i]} < {thislist[j]} -> {thislist[i] < thislist[j]}')"
   ]
  },
  {
   "cell_type": "code",
   "execution_count": null,
   "id": "90826ae4",
>>>>>>> c791bcad9c50e579a33951fbafcf7a76306dc8fc
   "metadata": {},
   "outputs": [],
   "source": []
  }
 ],
 "metadata": {
  "kernelspec": {
   "display_name": "Python 3 (ipykernel)",
   "language": "python",
   "name": "python3"
  },
  "language_info": {
   "codemirror_mode": {
    "name": "ipython",
    "version": 3
   },
   "file_extension": ".py",
   "mimetype": "text/x-python",
   "name": "python",
   "nbconvert_exporter": "python",
   "pygments_lexer": "ipython3",
   "version": "3.8.12"
  }
 },
 "nbformat": 4,
 "nbformat_minor": 5
}
