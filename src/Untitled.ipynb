{
 "cells": [
  {
   "cell_type": "code",
   "execution_count": 1,
   "id": "958cd369",
   "metadata": {},
   "outputs": [],
   "source": [
    "def fib(n):\n",
    "    if n <= 2:\n",
    "        return 1\n",
    "    \n",
    "    return fib(n-1) + fib(n-2)"
   ]
  },
  {
   "cell_type": "code",
   "execution_count": 2,
   "id": "076a65c3",
   "metadata": {},
   "outputs": [
    {
     "data": {
      "text/plain": [
       "5"
      ]
     },
     "execution_count": 2,
     "metadata": {},
     "output_type": "execute_result"
    }
   ],
   "source": [
    "fib(5)"
   ]
  },
  {
   "cell_type": "code",
   "execution_count": 3,
   "id": "27b3dfe6",
   "metadata": {},
   "outputs": [
    {
     "data": {
      "text/plain": [
       "55"
      ]
     },
     "execution_count": 3,
     "metadata": {},
     "output_type": "execute_result"
    }
   ],
   "source": [
    "fib(10)"
   ]
  },
  {
   "cell_type": "code",
   "execution_count": 4,
   "id": "9dff9c8a",
   "metadata": {},
   "outputs": [],
   "source": [
    "# fib(50)"
   ]
  },
  {
   "cell_type": "code",
   "execution_count": 8,
   "id": "307554f2",
   "metadata": {},
   "outputs": [
    {
     "name": "stdout",
     "output_type": "stream",
     "text": [
      "5\n",
      "4\n",
      "3\n",
      "2\n",
      "--------------------------------------------------\n",
      "--------------------------------------------------\n",
      "2\n",
      "--------------------------------------------------\n",
      "--------------------------------------------------\n",
      "3\n",
      "2\n",
      "--------------------------------------------------\n",
      "--------------------------------------------------\n",
      "2\n",
      "--------------------------------------------------\n",
      "--------------------------------------------------\n",
      "4\n",
      "3\n",
      "2\n",
      "--------------------------------------------------\n",
      "--------------------------------------------------\n",
      "2\n",
      "--------------------------------------------------\n",
      "--------------------------------------------------\n",
      "3\n",
      "2\n",
      "--------------------------------------------------\n",
      "--------------------------------------------------\n",
      "2\n",
      "--------------------------------------------------\n"
     ]
    }
   ],
   "source": [
    "def fun(n):\n",
    "    if n <=1:\n",
    "        return\n",
    "    \n",
    "    print(n)\n",
    "    \n",
    "    fun(n-1)\n",
    "    print('-' * 50)\n",
    "    fun(n-1)\n",
    "    \n",
    "fun(5)"
   ]
  },
  {
   "cell_type": "code",
   "execution_count": null,
   "id": "858d3883",
   "metadata": {},
   "outputs": [],
   "source": []
  }
 ],
 "metadata": {
  "kernelspec": {
   "display_name": "Python 3 (ipykernel)",
   "language": "python",
   "name": "python3"
  },
  "language_info": {
   "codemirror_mode": {
    "name": "ipython",
    "version": 3
   },
   "file_extension": ".py",
   "mimetype": "text/x-python",
   "name": "python",
   "nbconvert_exporter": "python",
   "pygments_lexer": "ipython3",
   "version": "3.8.12"
  }
 },
 "nbformat": 4,
 "nbformat_minor": 5
}
