{
 "cells": [
  {
   "cell_type": "code",
   "execution_count": null,
   "id": "d7585769",
   "metadata": {},
   "outputs": [],
   "source": [
    "class Solution:\n",
    "    def longestCommonPrefix(self, strs: List[str]) -> str:\n",
    "        \n",
    "        k = 0\n",
    "        i = 0\n",
    "        new_string = ''\n",
    "        length = len(strs[0])\n",
    "        \n",
    "        if length == 0:\n",
    "            return new_string\n",
    "        \n",
    "        while k <= length:\n",
    "            print(new_string)\n",
    "            for i in range(len(strs)-1):\n",
    "                if strs[i][k:k+1] != strs[i+1][k:k+1]:\n",
    "                    return new_string\n",
    "            \n",
    "            new_string += strs[i][k:k+1]\n",
    "            \n",
    "            k += 1\n",
    "            \n",
    "        return new_string\n",
    "            "
   ]
  }
 ],
 "metadata": {
  "kernelspec": {
   "display_name": "Python 3 (ipykernel)",
   "language": "python",
   "name": "python3"
  },
  "language_info": {
   "codemirror_mode": {
    "name": "ipython",
    "version": 3
   },
   "file_extension": ".py",
   "mimetype": "text/x-python",
   "name": "python",
   "nbconvert_exporter": "python",
   "pygments_lexer": "ipython3",
   "version": "3.8.12"
  }
 },
 "nbformat": 4,
 "nbformat_minor": 5
}
