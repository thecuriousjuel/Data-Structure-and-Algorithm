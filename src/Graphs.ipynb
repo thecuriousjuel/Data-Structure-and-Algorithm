{
 "cells": [
  {
   "cell_type": "markdown",
   "id": "4e611392",
   "metadata": {},
   "source": [
    "# Graph using Matrix"
   ]
  },
  {
   "cell_type": "code",
   "execution_count": null,
   "id": "5ed9e605",
   "metadata": {},
   "outputs": [],
   "source": [
    "class Graph_using_Matrix:\n",
    "    def __init__(self, type):\n",
    "        self.node_count = 0\n",
    "        self.nodes = []\n",
    "        self.graph = []\n",
    "        self.type = type\n",
    "        \n",
    "\n",
    "    def add_node(self, v):\n",
    "        if v in self.nodes:\n",
    "            return 'Node is already present!'\n",
    "\n",
    "        self.nodes.append(v)\n",
    "        self.node_count += 1\n",
    "        \n",
    "        for node in self.graph:\n",
    "            node.append(0)\n",
    "\n",
    "        temp = []\n",
    "        for i in range(self.node_count):\n",
    "            temp.append(0)\n",
    "            \n",
    "        self.graph.append(temp)\n",
    "        \n",
    "        \n",
    "    def add_edge(self, v1, v2, cost=1):\n",
    "        if v1 not in self.nodes:\n",
    "            return 'Source node is not present.'\n",
    "        \n",
    "        if v2 not in self.nodes:\n",
    "            return 'Destination node is not present.'\n",
    "        \n",
    "        source_index = 0\n",
    "        destination_index = 0\n",
    "        \n",
    "        for i in range(len(self.nodes)):\n",
    "            if self.nodes[i] == v1:\n",
    "                source_index = i\n",
    "            \n",
    "            if self.nodes[i] == v2:\n",
    "                destination_index = i\n",
    "                \n",
    "                \n",
    "        self.graph[source_index][destination_index] = cost        \n",
    "        if self.type == 'nd':\n",
    "            self.graph[destination_index][source_index] = cost\n",
    "            \n",
    "            \n",
    "    def remove_node(self, v):\n",
    "        if v not in self.nodes:\n",
    "            return 'Node not present'\n",
    "        index = self.nodes.index(v)\n",
    "        \n",
    "        self.graph.pop(index)\n",
    "        self.nodes.pop(index)\n",
    "        \n",
    "        for i in self.graph:\n",
    "            i.pop(index)\n",
    "            \n",
    "        self.node_count-=1\n",
    "            \n",
    "        return 'Item popped!'\n",
    "    \n",
    "    \n",
    "    def remove_edges(self, v1, v2):\n",
    "        if v1 not in self.nodes:\n",
    "            print('Source Node not present.')\n",
    "            \n",
    "        if v2 not in self.nodes:\n",
    "            print('Destination Node not present.')\n",
    "            \n",
    "        source_index = self.nodes.index(v1)\n",
    "        destination_index = self.nodes.index(v2)\n",
    "        \n",
    "        if self.graph[source_index][destination_index] == 0:\n",
    "                return 'Edge already removed!'\n",
    "            \n",
    "        self.graph[source_index][destination_index] = 0\n",
    "            \n",
    "        \n",
    "        if not self.type == 'd':\n",
    "            self.graph[destination_index][source_index] = 0\n",
    "            \n",
    "        return 'Edge removed.'\n",
    "    \n",
    "    \n",
    "    def shortest_path(self, src, des):\n",
    "        `\n",
    "        \n",
    "        \n",
    "    def print_count(self):\n",
    "        print('  ', end='')\n",
    "        for row in self.nodes:\n",
    "            print(row, end=' ')\n",
    "            \n",
    "        print()\n",
    "            \n",
    "        letter = 0\n",
    "        for row in self.graph:\n",
    "            print(self.nodes[letter], end=' ')\n",
    "            for col in row:\n",
    "                print(col, end=' ')\n",
    "                \n",
    "            print()\n",
    "            letter += 1\n",
    "    "
   ]
  },
  {
   "cell_type": "code",
   "execution_count": null,
   "id": "c8321b29",
   "metadata": {},
   "outputs": [],
   "source": [
    "# d -> directed | nd -> not directed\n",
    "g = Graph_using_Matrix('nd')\n",
    "\n",
    "g.add_node('A')\n",
    "g.add_node('B')\n",
    "g.add_node('C')\n",
    "g.add_node('D')\n",
    "g.add_node('E')\n",
    "g.print_count()"
   ]
  },
  {
   "cell_type": "code",
   "execution_count": null,
   "id": "a3679f28",
   "metadata": {},
   "outputs": [],
   "source": [
    "print(g.add_edge('A', 'B', 10))\n",
    "g.print_count()"
   ]
  },
  {
   "cell_type": "code",
   "execution_count": null,
   "id": "98e6576b",
   "metadata": {},
   "outputs": [],
   "source": [
    "print(g.add_edge('A', 'D', 4))\n",
    "g.print_count()"
   ]
  },
  {
   "cell_type": "code",
   "execution_count": null,
   "id": "31a1e376",
   "metadata": {},
   "outputs": [],
   "source": [
    "print(g.add_edge('A', 'C', 5))\n",
    "g.print_count()"
   ]
  },
  {
   "cell_type": "code",
   "execution_count": null,
   "id": "28e4ec9d",
   "metadata": {},
   "outputs": [],
   "source": [
    "print(g.add_edge('B', 'E', 3))\n",
    "g.print_count()"
   ]
  },
  {
   "cell_type": "code",
   "execution_count": null,
   "id": "9ba56e93",
   "metadata": {},
   "outputs": [],
   "source": [
    "print(g.add_edge('B', 'D', 7))\n",
    "g.print_count()"
   ]
  },
  {
   "cell_type": "code",
   "execution_count": null,
   "id": "0c7e284d",
   "metadata": {},
   "outputs": [],
   "source": [
    "print(g.add_edge('E', 'D', 2))\n",
    "g.print_count()"
   ]
  },
  {
   "cell_type": "code",
   "execution_count": null,
   "id": "00e7705f",
   "metadata": {},
   "outputs": [],
   "source": []
  },
  {
   "cell_type": "code",
   "execution_count": null,
   "id": "eec69308",
   "metadata": {},
   "outputs": [],
   "source": []
  },
  {
   "cell_type": "code",
   "execution_count": null,
   "id": "6d671892",
   "metadata": {},
   "outputs": [],
   "source": []
  },
  {
   "cell_type": "code",
   "execution_count": null,
   "id": "a50fe25f",
   "metadata": {},
   "outputs": [],
   "source": []
  },
  {
   "cell_type": "code",
   "execution_count": null,
   "id": "5f358a34",
   "metadata": {},
   "outputs": [],
   "source": []
  },
  {
   "cell_type": "code",
   "execution_count": null,
   "id": "a3d8b526",
   "metadata": {},
   "outputs": [],
   "source": []
  },
  {
   "cell_type": "code",
   "execution_count": null,
   "id": "9ff23256",
   "metadata": {},
   "outputs": [],
   "source": []
  },
  {
   "cell_type": "code",
   "execution_count": null,
   "id": "9d26ad50",
   "metadata": {},
   "outputs": [],
   "source": []
  },
  {
   "cell_type": "code",
   "execution_count": null,
   "id": "0e413108",
   "metadata": {},
   "outputs": [],
   "source": []
  },
  {
   "cell_type": "code",
   "execution_count": null,
   "id": "14a4c600",
   "metadata": {},
   "outputs": [],
   "source": [
    "print(g.remove_node('E'))\n",
    "g.print_count()"
   ]
  },
  {
   "cell_type": "code",
   "execution_count": null,
   "id": "611e2f2f",
   "metadata": {},
   "outputs": [],
   "source": [
    "print(g.remove_node('D'))\n",
    "g.print_count()"
   ]
  },
  {
   "cell_type": "code",
   "execution_count": null,
   "id": "4d801b26",
   "metadata": {},
   "outputs": [],
   "source": [
    "print(g.remove_edges('C', 'A'))\n",
    "g.print_count()"
   ]
  },
  {
   "cell_type": "code",
   "execution_count": null,
   "id": "e1463348",
   "metadata": {},
   "outputs": [],
   "source": []
  },
  {
   "cell_type": "code",
   "execution_count": null,
   "id": "a414d95b",
   "metadata": {},
   "outputs": [],
   "source": []
  },
  {
   "cell_type": "code",
   "execution_count": null,
   "id": "382ecc15",
   "metadata": {},
   "outputs": [],
   "source": []
  },
  {
   "cell_type": "code",
   "execution_count": null,
   "id": "ca7c878c",
   "metadata": {},
   "outputs": [],
   "source": []
  },
  {
   "cell_type": "code",
   "execution_count": null,
   "id": "72fbd1dd",
   "metadata": {},
   "outputs": [],
   "source": []
  },
  {
   "cell_type": "code",
   "execution_count": null,
   "id": "a9420fae",
   "metadata": {},
   "outputs": [],
   "source": []
  },
  {
   "cell_type": "markdown",
   "id": "b0040411",
   "metadata": {},
   "source": [
    "# Graph using List"
   ]
  },
  {
   "cell_type": "code",
   "execution_count": 27,
   "id": "0cbe88b5",
   "metadata": {},
   "outputs": [],
   "source": [
    "class Graph_using_Adjacency_List:\n",
    "    def __init__(self, type):\n",
    "        self.graph = {}\n",
    "        self.type = type\n",
    "        \n",
    "    \n",
    "    def add_node(self, v):\n",
    "        if v in self.graph.keys():\n",
    "            return 'Node is already present!'\n",
    "        \n",
    "        \n",
    "        self.graph[v] = []\n",
    "        \n",
    "        return \n",
    "        \n",
    "        \n",
    "    def add_edge(self, v1, v2, w=0):\n",
    "        if v1 not in self.graph.keys():\n",
    "            return 'Source Node is not present'\n",
    "        \n",
    "        if v2 not in self.graph.keys():\n",
    "            return 'Destination Node is not present'\n",
    "        \n",
    "        \n",
    "        self.graph[v1].append((v2, w))\n",
    "        if self.type != 'd':\n",
    "            self.graph[v2].append((v1, w))\n",
    "            \n",
    "            \n",
    "        return f'Edge Added: {v1} -> {v2}'\n",
    "    \n",
    "    \n",
    "    def delete_edges(self, e1, e2):\n",
    "        if e1 not in self.graph.keys():\n",
    "            return 'Source node not present.'\n",
    "        \n",
    "        if e2 not in self.graph.keys():\n",
    "            return 'Destination node not present.'\n",
    "        \n",
    "        \n",
    "        def delete(src, dest):\n",
    "            i = 0\n",
    "            l = len(self.graph[src])\n",
    "            \n",
    "            while i < l:\n",
    "                key = self.graph[src][i][0]\n",
    "\n",
    "                if key == dest:\n",
    "                    self.graph[src].pop(i)\n",
    "                    l-=1\n",
    "                \n",
    "                i += 1\n",
    "                    \n",
    "            \n",
    "        delete(e1, e2)\n",
    "        delete(e2, e1)\n",
    "        return 'Link removed'\n",
    "                \n",
    "    \n",
    "    def delete_node(self, v):\n",
    "        if v not in self.graph.keys():\n",
    "            return 'Node is not present'\n",
    "        \n",
    "        for i in self.graph[v]:\n",
    "            key, value = i\n",
    "            \n",
    "            l = len(self.graph[key])\n",
    "            j = 0\n",
    "            \n",
    "            while j < l:\n",
    "            \n",
    "                \n",
    "                if self.graph[key][j][0] == v:\n",
    "                    self.graph[key].pop(j)\n",
    "                    l-=1\n",
    "                    \n",
    "                j+=1\n",
    "                \n",
    "        return self.graph.pop(v)\n",
    "    \n",
    "    \n",
    "    def dfs_traversal(self, v, is_visited = []): \n",
    "        print(f'is_visited -> {is_visited}')\n",
    "        if v in is_visited:\n",
    "            return\n",
    "        \n",
    "        is_visited.append(v)\n",
    "        for i in self.graph[v]:\n",
    "            self.dfs_traversal(i[0], is_visited)\n",
    "            \n",
    "        return is_visited\n",
    "            \n",
    "            \n",
    "    def bfs_traversal(self, v, is_visited = [], p = 0):\n",
    "        print(f'is_visited -> {is_visited}')\n",
    "        \n",
    "        if v not in is_visited:\n",
    "            is_visited.append(v)\n",
    "        \n",
    "        for i in is_visited:\n",
    "            for j in self.graph[i]:\n",
    "                if j[0] not in is_visited:  \n",
    "                    is_visited.append(j[0])\n",
    "                \n",
    "        return is_visited\n",
    "    \n",
    "    \n",
    "    def shortest_path(self, v1, v2, path=[], distance = -1):\n",
    "        if v1 in path:\n",
    "            path.append(v1)\n",
    "            \n",
    "            \n",
    "    \n",
    "    \n",
    "    def print_count(self):\n",
    "        print(self.graph)\n",
    "            "
   ]
  },
  {
   "cell_type": "code",
   "execution_count": 28,
   "id": "09477d4e",
   "metadata": {},
   "outputs": [
    {
     "name": "stdout",
     "output_type": "stream",
     "text": [
      "{'A': [], 'B': [], 'C': [], 'D': [], 'E': []}\n"
     ]
    }
   ],
   "source": [
    "g = Graph_using_Adjacency_List('nd')\n",
    "\n",
    "g.add_node('A')\n",
    "g.add_node('B')\n",
    "g.add_node('C')\n",
    "g.add_node('D')\n",
    "g.add_node('E')\n",
    "g.print_count()"
   ]
  },
  {
   "cell_type": "code",
   "execution_count": 29,
   "id": "8f4cb126",
   "metadata": {},
   "outputs": [
    {
     "name": "stdout",
     "output_type": "stream",
     "text": [
      "Edge Added: A -> B\n",
      "Edge Added: A -> D\n",
      "Edge Added: A -> C\n",
      "Edge Added: B -> A\n",
      "Edge Added: B -> D\n",
      "Edge Added: B -> E\n",
      "Edge Added: C -> A\n",
      "Edge Added: D -> A\n",
      "Edge Added: D -> B\n",
      "Edge Added: D -> E\n",
      "Edge Added: E -> B\n",
      "Edge Added: E -> D\n",
      "{'A': [('B', 0), ('D', 0), ('C', 0), ('B', 0), ('C', 0), ('D', 0)], 'B': [('A', 0), ('A', 0), ('D', 0), ('E', 0), ('D', 0), ('E', 0)], 'C': [('A', 0), ('A', 0)], 'D': [('A', 0), ('B', 0), ('A', 0), ('B', 0), ('E', 0), ('E', 0)], 'E': [('B', 0), ('D', 0), ('B', 0), ('D', 0)]}\n"
     ]
    }
   ],
   "source": [
    "print(g.add_edge('A', 'B'))\n",
    "print(g.add_edge('A', 'D'))\n",
    "print(g.add_edge('A', 'C'))\n",
    "\n",
    "print(g.add_edge('B', 'A'))\n",
    "print(g.add_edge('B', 'D'))\n",
    "print(g.add_edge('B', 'E'))\n",
    "\n",
    "print(g.add_edge('C', 'A'))\n",
    "\n",
    "print(g.add_edge('D', 'A'))\n",
    "print(g.add_edge('D', 'B'))\n",
    "print(g.add_edge('D', 'E'))\n",
    "\n",
    "print(g.add_edge('E', 'B'))\n",
    "print(g.add_edge('E', 'D'))\n",
    "\n",
    "g.print_count()"
   ]
  },
  {
   "cell_type": "code",
   "execution_count": 30,
   "id": "1e069d87",
   "metadata": {},
   "outputs": [
    {
     "name": "stdout",
     "output_type": "stream",
     "text": [
      "is_visited -> []\n"
     ]
    },
    {
     "data": {
      "text/plain": [
       "['E', 'B', 'D', 'A', 'C']"
      ]
     },
     "execution_count": 30,
     "metadata": {},
     "output_type": "execute_result"
    }
   ],
   "source": [
    "g.bfs_traversal('E')"
   ]
  },
  {
   "cell_type": "code",
   "execution_count": 31,
   "id": "9f0f6cb2",
   "metadata": {},
   "outputs": [
    {
     "name": "stdout",
     "output_type": "stream",
     "text": [
      "Node is not present\n",
      "{'A': [('B', 0), ('D', 0), ('C', 0), ('B', 0), ('C', 0), ('D', 0)], 'B': [('A', 0), ('A', 0), ('D', 0), ('E', 0), ('D', 0), ('E', 0)], 'C': [('A', 0), ('A', 0)], 'D': [('A', 0), ('B', 0), ('A', 0), ('B', 0), ('E', 0), ('E', 0)], 'E': [('B', 0), ('D', 0), ('B', 0), ('D', 0)]}\n"
     ]
    }
   ],
   "source": [
    "print(g.delete_node('G'))\n",
    "g.print_count()"
   ]
  },
  {
   "cell_type": "code",
   "execution_count": 32,
   "id": "46ae22ce",
   "metadata": {},
   "outputs": [
    {
     "name": "stdout",
     "output_type": "stream",
     "text": [
      "Link removed\n",
      "{'A': [('B', 0), ('D', 0), ('C', 0), ('B', 0), ('C', 0), ('D', 0)], 'B': [('A', 0), ('A', 0), ('D', 0), ('E', 0), ('D', 0), ('E', 0)], 'C': [('A', 0), ('A', 0)], 'D': [('A', 0), ('B', 0), ('A', 0), ('B', 0), ('E', 0), ('E', 0)], 'E': [('B', 0), ('D', 0), ('B', 0), ('D', 0)]}\n"
     ]
    }
   ],
   "source": [
    "print(g.delete_edges('D', 'C'))\n",
    "g.print_count()"
   ]
  },
  {
   "cell_type": "code",
   "execution_count": 33,
   "id": "88b76cdd",
   "metadata": {},
   "outputs": [
    {
     "name": "stdout",
     "output_type": "stream",
     "text": [
      "[('B', 0), ('D', 0), ('C', 0), ('B', 0), ('C', 0), ('D', 0)]\n",
      "{'B': [('D', 0), ('E', 0), ('D', 0), ('E', 0)], 'C': [], 'D': [('B', 0), ('B', 0), ('E', 0), ('E', 0)], 'E': [('B', 0), ('D', 0), ('B', 0), ('D', 0)]}\n"
     ]
    }
   ],
   "source": [
    "print(g.delete_node('A'))\n",
    "g.print_count()"
   ]
  },
  {
   "cell_type": "code",
   "execution_count": 34,
   "id": "65b46493",
   "metadata": {},
   "outputs": [
    {
     "name": "stdout",
     "output_type": "stream",
     "text": [
      "[]\n",
      "{'B': [('D', 0), ('E', 0), ('D', 0), ('E', 0)], 'D': [('B', 0), ('B', 0), ('E', 0), ('E', 0)], 'E': [('B', 0), ('D', 0), ('B', 0), ('D', 0)]}\n"
     ]
    }
   ],
   "source": [
    "print(g.delete_node('C'))\n",
    "g.print_count()"
   ]
  },
  {
   "cell_type": "code",
   "execution_count": 35,
   "id": "0aa97796",
   "metadata": {},
   "outputs": [
    {
     "name": "stdout",
     "output_type": "stream",
     "text": [
      "[('D', 0), ('E', 0), ('D', 0), ('E', 0)]\n",
      "{'D': [('E', 0), ('E', 0)], 'E': [('D', 0), ('D', 0)]}\n"
     ]
    }
   ],
   "source": [
    "print(g.delete_node('B'))\n",
    "g.print_count()"
   ]
  },
  {
   "cell_type": "code",
   "execution_count": 36,
   "id": "66f230f1",
   "metadata": {},
   "outputs": [
    {
     "name": "stdout",
     "output_type": "stream",
     "text": [
      "[('E', 0), ('E', 0)]\n",
      "{'E': []}\n"
     ]
    }
   ],
   "source": [
    "print(g.delete_node('D'))\n",
    "g.print_count()"
   ]
  },
  {
   "cell_type": "code",
   "execution_count": 37,
   "id": "23b0bda1",
   "metadata": {},
   "outputs": [
    {
     "name": "stdout",
     "output_type": "stream",
     "text": [
      "Node is not present\n",
      "{'E': []}\n"
     ]
    }
   ],
   "source": [
    "print(g.delete_node('D'))\n",
    "g.print_count()"
   ]
  },
  {
   "cell_type": "code",
   "execution_count": null,
   "id": "bfcbb880",
   "metadata": {},
   "outputs": [],
   "source": []
  }
 ],
 "metadata": {
  "kernelspec": {
   "display_name": "Python 3 (ipykernel)",
   "language": "python",
   "name": "python3"
  },
  "language_info": {
   "codemirror_mode": {
    "name": "ipython",
    "version": 3
   },
   "file_extension": ".py",
   "mimetype": "text/x-python",
   "name": "python",
   "nbconvert_exporter": "python",
   "pygments_lexer": "ipython3",
   "version": "3.8.12"
  }
 },
 "nbformat": 4,
 "nbformat_minor": 5
}
