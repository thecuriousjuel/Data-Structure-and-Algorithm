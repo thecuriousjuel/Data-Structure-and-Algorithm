{
 "cells": [
  {
   "cell_type": "code",
   "execution_count": 2,
   "id": "f2ad912f",
   "metadata": {},
   "outputs": [
    {
     "name": "stdout",
     "output_type": "stream",
     "text": [
      "woo 3\n",
      "woo 2\n",
      "woo 1\n",
      "woo 1\n",
      "woo 2\n",
      "woo 1\n",
      "woo 1\n"
     ]
    }
   ],
   "source": [
    "def function(n):\n",
    "    if n > 0:\n",
    "        print(f'woo {n}')\n",
    "        function(n-1)\n",
    "        function(n-1)\n",
    "        \n",
    "function(3)"
   ]
  },
  {
   "cell_type": "code",
   "execution_count": 3,
   "id": "537a5360",
   "metadata": {},
   "outputs": [
    {
     "name": "stdout",
     "output_type": "stream",
     "text": [
      "woo 1\n",
      "woo 1\n",
      "woo 2\n",
      "woo 1\n",
      "woo 1\n",
      "woo 2\n",
      "woo 3\n"
     ]
    }
   ],
   "source": [
    "def function(n):\n",
    "    if n > 0:\n",
    "        function(n-1)\n",
    "        function(n-1)\n",
    "        print(f'woo {n}')\n",
    "        \n",
    "function(3)"
   ]
  },
  {
   "cell_type": "code",
   "execution_count": 4,
   "id": "897b8f36",
   "metadata": {},
   "outputs": [
    {
     "name": "stdout",
     "output_type": "stream",
     "text": [
      "woo 1\n",
      "woo 2\n",
      "woo 1\n",
      "woo 3\n",
      "woo 1\n",
      "woo 2\n",
      "woo 1\n"
     ]
    }
   ],
   "source": [
    "def function(n):\n",
    "    if n > 0:\n",
    "        function(n-1)\n",
    "        print(f'woo {n}')\n",
    "        function(n-1)\n",
    "function(3)"
   ]
  },
  {
   "cell_type": "code",
   "execution_count": null,
   "id": "f3432e49",
   "metadata": {},
   "outputs": [],
   "source": []
  }
 ],
 "metadata": {
  "kernelspec": {
   "display_name": "Python 3 (ipykernel)",
   "language": "python",
   "name": "python3"
  },
  "language_info": {
   "codemirror_mode": {
    "name": "ipython",
    "version": 3
   },
   "file_extension": ".py",
   "mimetype": "text/x-python",
   "name": "python",
   "nbconvert_exporter": "python",
   "pygments_lexer": "ipython3",
   "version": "3.8.12"
  }
 },
 "nbformat": 4,
 "nbformat_minor": 5
}
