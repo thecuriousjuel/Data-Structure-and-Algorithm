{
 "cells": [
  {
   "cell_type": "code",
   "execution_count": null,
   "id": "eb95d65d",
   "metadata": {},
   "outputs": [],
   "source": [
    "#User function Template for python3\n",
    "\n",
    "class Solution:\n",
    "\n",
    "    def printSequence(self,S):\n",
    "        phone = {}\n",
    "\n",
    "        count = 1\n",
    "        num = 2\n",
    "        for i in range(65, 90+1):\n",
    "            phone[chr(i)] = str(num) * count\n",
    "            count+=1\n",
    "                    \n",
    "            if num == 7 or num == 9:\n",
    "                if count == 5:\n",
    "                    count = 1\n",
    "                    num += 1\n",
    "            else:\n",
    "                if count == 4:\n",
    "                    count = 1\n",
    "                    num += 1\n",
    "                    \n",
    "        phone[' '] = str(0)\n",
    "                    \n",
    "        numpad = ''        \n",
    "        for i in S:\n",
    "            numpad += phone[i]\n",
    "            \n",
    "            \n",
    "        return numpad\n",
    " \n",
    "        print(phone)\n",
    "\n",
    "#{ \n",
    "#  Driver Code Starts\n",
    "#Initial Template for Python 3\n",
    "\n",
    "if __name__ == '__main__':\n",
    "\n",
    "    t = int(input())\n",
    "\n",
    "    for _ in range(t):\n",
    "\n",
    "        inputStr = input()\n",
    "\n",
    "        solObj = Solution()\n",
    "\n",
    "        print(solObj.printSequence(inputStr))\n",
    "# } Driver Code Ends"
   ]
  },
  {
   "cell_type": "code",
   "execution_count": null,
   "id": "63ff95f9",
   "metadata": {},
   "outputs": [],
   "source": []
  }
 ],
 "metadata": {
  "kernelspec": {
   "display_name": "Python 3 (ipykernel)",
   "language": "python",
   "name": "python3"
  },
  "language_info": {
   "codemirror_mode": {
    "name": "ipython",
    "version": 3
   },
   "file_extension": ".py",
   "mimetype": "text/x-python",
   "name": "python",
   "nbconvert_exporter": "python",
   "pygments_lexer": "ipython3",
   "version": "3.8.12"
  }
 },
 "nbformat": 4,
 "nbformat_minor": 5
}
