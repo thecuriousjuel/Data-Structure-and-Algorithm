{
 "cells": [
  {
   "cell_type": "code",
   "execution_count": 50,
   "id": "4ba06148",
   "metadata": {},
   "outputs": [
    {
     "name": "stdout",
     "output_type": "stream",
     "text": [
      "9, 8, 7, 6, 5, 4, 3, 2, 1, 0, \n",
      "9, 8, 7, 6, 5, 4, 3, 2, 1, 0, \n",
      "9, 8, 7, 6, 5, Middle, 4, 3, 2, 1, 0, \n",
      "8, 7, 6, 5, Middle, 4, 3, 2, 1, 0, \n",
      "8, 7, 6, 5, Middle, 4, 3, 2, 1, \n",
      "8, 7, 6, 5, Middle, 4, 3, 2, 1, \n"
     ]
    }
   ],
   "source": [
    "class Node:\n",
    "    def __init__(self, data):\n",
    "        self.data = data\n",
    "        self.next = None\n",
    "\n",
    "\n",
    "class SinglyLinkedList:\n",
    "    def __init__(self):\n",
    "        self.head = None\n",
    "        \n",
    "\n",
    "    def insert_at_first(self, data):\n",
    "        new_node = Node(data)\n",
    "        new_node.next = self.head\n",
    "        self.head = new_node\n",
    "        \n",
    "\n",
    "    def insert_at_last(self, data):\n",
    "        new_node = Node(data)\n",
    "        current_node = self.head\n",
    "        while current_node.next != None:\n",
    "            if current_node.next == None:\n",
    "                current_node.next = new_node\n",
    "                break\n",
    "            current_node = current_node.next\n",
    "            \n",
    "\n",
    "    def insert_at_position(self, data, position):\n",
    "        new_node = Node(data)\n",
    "        current_node = self.head\n",
    "        c = 0\n",
    "        while current_node.next != None:\n",
    "            if c == position - 1:\n",
    "                new_node.next = current_node.next\n",
    "                current_node.next = new_node\n",
    "                break\n",
    "            c += 1\n",
    "            current_node = current_node.next\n",
    "            \n",
    "\n",
    "    def delete_at_first(self):\n",
    "        self.head = self.head.next\n",
    "        \n",
    "\n",
    "    def delete_at_last(self):\n",
    "        current_node = self.head\n",
    "        while current_node.next != None:\n",
    "            if current_node.next.next == None:\n",
    "                current_node.next = None\n",
    "                break\n",
    "            current_node = current_node.next\n",
    "            \n",
    "\n",
    "    def delete_at_position(self, position):\n",
    "        current_node = self.head\n",
    "        c = 0\n",
    "        while current_node.next != None:\n",
    "            if c == position - 1:\n",
    "                current_node.next = current_node.next.next\n",
    "                break\n",
    "            c += 1\n",
    "            current_node = current_node.next\n",
    "            \n",
    "            \n",
    "    def print_reverse(self, current):\n",
    "        if current.next == None:\n",
    "            return current.data\n",
    "        \n",
    "        return str(self.print_reverse(current.next)) + str(current.data)\n",
    "    \n",
    "    \n",
    "    def reverse_the_list(self, current):\n",
    "        if current.next == None:\n",
    "            return current\n",
    "        \n",
    "        current1 = self.reverse_the_list(current.next)\n",
    "        print(current1.data, current.data)\n",
    "        current1.next = current\n",
    "        \n",
    "        return current1\n",
    "        \n",
    "            \n",
    "\n",
    "    def print_data(self):\n",
    "        current_node = self.head\n",
    "        while current_node:\n",
    "            print(current_node.data, end=', ')\n",
    "            current_node = current_node.next\n",
    "\n",
    "        print()\n",
    "\n",
    "\n",
    "data = SinglyLinkedList()\n",
    "\n",
    "for i in range(10):\n",
    "    data.insert_at_first(i)\n",
    "data.print_data()\n",
    "data.insert_at_last(\"LAST\")\n",
    "data.print_data()\n",
    "data.insert_at_position(\"Middle\", 5)\n",
    "data.print_data()\n",
    "data.delete_at_first()\n",
    "data.print_data()\n",
    "data.delete_at_last()\n",
    "data.print_data()\n",
    "data.delete_at_position(10)\n",
    "data.print_data()"
   ]
  },
  {
   "cell_type": "code",
   "execution_count": 51,
   "id": "088514ed",
   "metadata": {},
   "outputs": [
    {
     "data": {
      "text/plain": [
       "'1234Middle5678'"
      ]
     },
     "execution_count": 51,
     "metadata": {},
     "output_type": "execute_result"
    }
   ],
   "source": [
    "data.print_reverse(data.head)"
   ]
  },
  {
   "cell_type": "code",
   "execution_count": 52,
   "id": "8e84fab8",
   "metadata": {},
   "outputs": [
    {
     "name": "stdout",
     "output_type": "stream",
     "text": [
      "8, 7, 6, 5, Middle, 4, 3, 2, 1, \n"
     ]
    }
   ],
   "source": [
    "data.print_data()"
   ]
  },
  {
   "cell_type": "code",
   "execution_count": 53,
   "id": "df1f14e8",
   "metadata": {},
   "outputs": [
    {
     "name": "stdout",
     "output_type": "stream",
     "text": [
      "1 2\n",
      "1 3\n",
      "1 4\n",
      "1 Middle\n",
      "1 5\n",
      "1 6\n",
      "1 7\n",
      "1 8\n"
     ]
    },
    {
     "data": {
      "text/plain": [
       "<__main__.Node at 0x2160891b250>"
      ]
     },
     "execution_count": 53,
     "metadata": {},
     "output_type": "execute_result"
    }
   ],
   "source": [
    "data = data.reverse_the_list(data.head)\n",
    "data"
   ]
  },
  {
   "cell_type": "code",
   "execution_count": 54,
   "id": "af11409f",
   "metadata": {},
   "outputs": [
    {
     "ename": "NameError",
     "evalue": "name 'print_data' is not defined",
     "output_type": "error",
     "traceback": [
      "\u001b[1;31m---------------------------------------------------------------------------\u001b[0m",
      "\u001b[1;31mNameError\u001b[0m                                 Traceback (most recent call last)",
      "Input \u001b[1;32mIn [54]\u001b[0m, in \u001b[0;36m<cell line: 1>\u001b[1;34m()\u001b[0m\n\u001b[1;32m----> 1\u001b[0m \u001b[43mprint_data\u001b[49m(data)\n",
      "\u001b[1;31mNameError\u001b[0m: name 'print_data' is not defined"
     ]
    }
   ],
   "source": [
    "print_data(data)"
   ]
  },
  {
   "cell_type": "code",
   "execution_count": null,
   "id": "6f8be6c8",
   "metadata": {},
   "outputs": [],
   "source": []
  }
 ],
 "metadata": {
  "kernelspec": {
   "display_name": "Python 3 (ipykernel)",
   "language": "python",
   "name": "python3"
  },
  "language_info": {
   "codemirror_mode": {
    "name": "ipython",
    "version": 3
   },
   "file_extension": ".py",
   "mimetype": "text/x-python",
   "name": "python",
   "nbconvert_exporter": "python",
   "pygments_lexer": "ipython3",
   "version": "3.8.12"
  }
 },
 "nbformat": 4,
 "nbformat_minor": 5
}
