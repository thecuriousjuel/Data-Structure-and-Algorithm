{
 "cells": [
  {
   "cell_type": "code",
   "execution_count": 2,
   "id": "530f3c6e",
   "metadata": {},
   "outputs": [],
   "source": [
    "class MinHeap:\n",
    "    def __init__(self, capacity):\n",
    "        self.storage = [-1] * capacity\n",
    "        self.capacity = capacity\n",
    "        self.size = 0\n",
    "        \n",
    "\n",
    "    def get_parent_index(self, index):\n",
    "        return (index - 1) //2\n",
    "    \n",
    "\n",
    "    def get_left_child_index(self, index):\n",
    "        return 2 * index + 1\n",
    "    \n",
    "\n",
    "    def get_right_child_index(self, index):\n",
    "        return 2 * index + 2\n",
    "    \n",
    "    \n",
    "    def has_parent(self, index):\n",
    "        return self.get_parent_index(index) >= 0\n",
    "    \n",
    "    \n",
    "    def has_left_child(self, index):\n",
    "        return self.get_left_child_index(index) < self.size\n",
    "    \n",
    "    \n",
    "    def has_right_child(self, index):\n",
    "        return self.get_right_child_index(index) < self.size\n",
    "    \n",
    "    \n",
    "    def get_parent(self, index):\n",
    "        return self.storage[self.get_parent_index(index)]\n",
    "    \n",
    "    \n",
    "    def get_left_child(self, index):\n",
    "        return self.storage[self.get_left_child_index(index)]\n",
    "    \n",
    "    \n",
    "    def get_right_child(self, index):\n",
    "        return self.storage[self.get_right_child_index(index)]\n",
    "    \n",
    "    \n",
    "    def is_full(self):\n",
    "        return self.size == self.capacity\n",
    "    \n",
    "    \n",
    "    def swap(self, index1, index2):\n",
    "        temp = self.storage[index1]\n",
    "        self.storage[index1] = self.storage[index2]\n",
    "        self.storage[index2] = temp\n",
    "        \n",
    "    \n",
    "    def insert(self, data):\n",
    "        \n",
    "        if self.is_full():\n",
    "            raise(\"Heap is Full!\")\n",
    "\n",
    "            \n",
    "        self.storage[self.size] = data\n",
    "        self.size += 1\n",
    "        self.heapify_up(self.size - 1)\n",
    "        \n",
    "        \n",
    "    def remove_min(self):\n",
    "        if self.size == 0:\n",
    "            raise('Heap is Empty!')\n",
    "            \n",
    "        data = self.storage[0]\n",
    "        self.storage[0] = self.storage[self.size - 1]\n",
    "        self.storage[self.size - 1] = -1\n",
    "        self.size -= 1\n",
    "        self.heapify_down(0)\n",
    "        return data\n",
    "        \n",
    "    \n",
    "    def heapify_up(self, index):\n",
    "        if self.has_parent(index) and self.get_parent(index) > self.storage[index]:\n",
    "            self.swap(self.get_parent_index(index), index)\n",
    "            self.heapify_up(self.get_parent_index(index))           \n",
    "        \n",
    "    \n",
    "    def heapify_down(self, index):\n",
    "        smallest = index\n",
    "        \n",
    "        if self.has_left_child(index) and self.storage[smallest] > self.get_left_child(index):\n",
    "            smallest = self.get_left_child_index(index)\n",
    "            \n",
    "        if self.has_right_child(index) and self.storage[smallest] > self.get_right_child(index):\n",
    "            smallest = self.get_right_child_index(index)\n",
    "                \n",
    "        \n",
    "        if smallest != index:\n",
    "            self.swap(smallest, index)\n",
    "            self.heapify_down(smallest)\n",
    "    \n",
    "        \n",
    "    def display(self):\n",
    "        print(self.storage)\n",
    "            \n",
    "    "
   ]
  },
  {
   "cell_type": "code",
   "execution_count": 4,
   "id": "d7132a8f",
   "metadata": {},
   "outputs": [
    {
     "name": "stdout",
     "output_type": "stream",
     "text": [
      "[35, -1, -1, -1, -1, -1, -1, -1, -1, -1, -1, -1, -1, -1, -1, -1, -1, -1, -1, -1]\n",
      "[33, 35, -1, -1, -1, -1, -1, -1, -1, -1, -1, -1, -1, -1, -1, -1, -1, -1, -1, -1]\n",
      "[33, 35, 42, -1, -1, -1, -1, -1, -1, -1, -1, -1, -1, -1, -1, -1, -1, -1, -1, -1]\n",
      "[10, 33, 42, 35, -1, -1, -1, -1, -1, -1, -1, -1, -1, -1, -1, -1, -1, -1, -1, -1]\n",
      "[10, 14, 42, 35, 33, -1, -1, -1, -1, -1, -1, -1, -1, -1, -1, -1, -1, -1, -1, -1]\n",
      "[10, 14, 19, 35, 33, 42, -1, -1, -1, -1, -1, -1, -1, -1, -1, -1, -1, -1, -1, -1]\n",
      "[10, 14, 19, 35, 33, 42, 27, -1, -1, -1, -1, -1, -1, -1, -1, -1, -1, -1, -1, -1]\n",
      "[10, 14, 19, 35, 33, 42, 27, 44, -1, -1, -1, -1, -1, -1, -1, -1, -1, -1, -1, -1]\n",
      "[10, 14, 19, 26, 33, 42, 27, 44, 35, -1, -1, -1, -1, -1, -1, -1, -1, -1, -1, -1]\n",
      "[10, 14, 19, 26, 31, 42, 27, 44, 35, 33, -1, -1, -1, -1, -1, -1, -1, -1, -1, -1]\n"
     ]
    }
   ],
   "source": [
    "min_heap_object = MinHeap(20)\n",
    "\n",
    "for i in [35,33,42,10,14,19,27,44,26,31]:\n",
    "    min_heap_object.insert(i)   \n",
    "    min_heap_object.display()"
   ]
  },
  {
   "cell_type": "code",
   "execution_count": 3,
   "id": "7fe3f68d",
   "metadata": {},
   "outputs": [
    {
     "name": "stdout",
     "output_type": "stream",
     "text": [
      "[5, 8, 10, 20, 30, 15, -1, -1, -1, -1, -1, -1, -1, -1, -1, -1, -1, -1, -1, -1]\n",
      "[8, 15, 10, 20, 30, -1, -1, -1, -1, -1, -1, -1, -1, -1, -1, -1, -1, -1, -1, -1]\n",
      "[10, 15, 30, 20, -1, -1, -1, -1, -1, -1, -1, -1, -1, -1, -1, -1, -1, -1, -1, -1]\n",
      "[15, 20, 30, -1, -1, -1, -1, -1, -1, -1, -1, -1, -1, -1, -1, -1, -1, -1, -1, -1]\n",
      "[20, 30, -1, -1, -1, -1, -1, -1, -1, -1, -1, -1, -1, -1, -1, -1, -1, -1, -1, -1]\n"
     ]
    }
   ],
   "source": [
    "for i in range(5):\n",
    "    min_heap_object.remove_min()\n",
    "    min_heap_object.display()"
   ]
  },
  {
   "cell_type": "code",
   "execution_count": 5,
   "id": "3218a1dd",
   "metadata": {},
   "outputs": [
    {
     "name": "stdout",
     "output_type": "stream",
     "text": [
      "[0, -1, -1, -1, -1, -1, -1, -1, -1, -1, -1, -1, -1, -1, -1, -1, -1, -1, -1, -1]\n",
      "[0, 15, -1, -1, -1, -1, -1, -1, -1, -1, -1, -1, -1, -1, -1, -1, -1, -1, -1, -1]\n",
      "[0, 15, 3, -1, -1, -1, -1, -1, -1, -1, -1, -1, -1, -1, -1, -1, -1, -1, -1, -1]\n",
      "[0, 15, 3, 30, -1, -1, -1, -1, -1, -1, -1, -1, -1, -1, -1, -1, -1, -1, -1, -1]\n",
      "[0, 15, 3, 30, 20, -1, -1, -1, -1, -1, -1, -1, -1, -1, -1, -1, -1, -1, -1, -1]\n",
      "[0, 15, 3, 30, 20, 10, -1, -1, -1, -1, -1, -1, -1, -1, -1, -1, -1, -1, -1, -1]\n",
      "[0, 15, 3, 30, 20, 10, 5, -1, -1, -1, -1, -1, -1, -1, -1, -1, -1, -1, -1, -1]\n"
     ]
    }
   ],
   "source": [
    "min_heap_object = MinHeap(20)\n",
    "\n",
    "for i in [0, 15, 3, 30, 20, 10, 5]:\n",
    "    min_heap_object.insert(i)   \n",
    "    min_heap_object.display()"
   ]
  },
  {
   "cell_type": "code",
   "execution_count": 5,
   "id": "36631cfe",
   "metadata": {},
   "outputs": [
    {
     "name": "stdout",
     "output_type": "stream",
     "text": [
      "[3, 15, 5, 30, 20, 10, -1, -1, -1, -1, -1, -1, -1, -1, -1, -1, -1, -1, -1, -1]\n",
      "[5, 15, 10, 30, 20, -1, -1, -1, -1, -1, -1, -1, -1, -1, -1, -1, -1, -1, -1, -1]\n",
      "[10, 15, 20, 30, -1, -1, -1, -1, -1, -1, -1, -1, -1, -1, -1, -1, -1, -1, -1, -1]\n",
      "[15, 30, 20, -1, -1, -1, -1, -1, -1, -1, -1, -1, -1, -1, -1, -1, -1, -1, -1, -1]\n",
      "[20, 30, -1, -1, -1, -1, -1, -1, -1, -1, -1, -1, -1, -1, -1, -1, -1, -1, -1, -1]\n"
     ]
    }
   ],
   "source": [
    "for i in range(5):\n",
    "    min_heap_object.remove_min()\n",
    "    min_heap_object.display()"
   ]
  },
  {
   "cell_type": "code",
   "execution_count": null,
   "id": "6a3e6e09",
   "metadata": {},
   "outputs": [],
   "source": []
  }
 ],
 "metadata": {
  "kernelspec": {
   "display_name": "Python 3 (ipykernel)",
   "language": "python",
   "name": "python3"
  },
  "language_info": {
   "codemirror_mode": {
    "name": "ipython",
    "version": 3
   },
   "file_extension": ".py",
   "mimetype": "text/x-python",
   "name": "python",
   "nbconvert_exporter": "python",
   "pygments_lexer": "ipython3",
   "version": "3.8.12"
  }
 },
 "nbformat": 4,
 "nbformat_minor": 5
}
