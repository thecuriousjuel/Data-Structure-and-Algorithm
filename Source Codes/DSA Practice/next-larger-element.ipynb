{
 "cells": [
  {
   "cell_type": "code",
   "execution_count": 108,
   "id": "5e889656",
   "metadata": {},
   "outputs": [],
   "source": [
    "def nextLargerElement(arr,n):\n",
    "    print(arr, n)\n",
    "    \n",
    "    # Base Case\n",
    "    if len(arr) == 0:\n",
    "        return [-1]\n",
    "    \n",
    "    if arr[0] > n:\n",
    "        return [arr[0]] + nextLargerElement(arr[1:], arr[0])\n",
    "    \n",
    "    # Recursive Case\n",
    "    \n",
    "    value = nextLargerElement(arr[1:], arr[0])\n",
    "    print(value)\n",
    "    return value"
   ]
  },
  {
   "cell_type": "code",
   "execution_count": 109,
   "id": "0eb6307e",
   "metadata": {},
   "outputs": [
    {
     "name": "stdout",
     "output_type": "stream",
     "text": [
      "[1, 3, 2, 4, 1] 4\n",
      "[3, 2, 4, 1] 1\n",
      "[2, 4, 1] 3\n",
      "[4, 1] 2\n",
      "[1] 4\n",
      "[] 1\n",
      "[-1]\n",
      "[4, -1]\n",
      "[3, 4, -1]\n"
     ]
    },
    {
     "data": {
      "text/plain": [
       "[3, 4, -1]"
      ]
     },
     "execution_count": 109,
     "metadata": {},
     "output_type": "execute_result"
    }
   ],
   "source": [
    "nextLargerElement([1, 3, 2, 4, 1],  4)"
   ]
  },
  {
   "cell_type": "code",
   "execution_count": null,
   "id": "70d8f0e6",
   "metadata": {},
   "outputs": [],
   "source": []
  },
  {
   "cell_type": "code",
   "execution_count": null,
   "id": "247514c7",
   "metadata": {},
   "outputs": [],
   "source": []
  }
 ],
 "metadata": {
  "kernelspec": {
   "display_name": "Python 3 (ipykernel)",
   "language": "python",
   "name": "python3"
  },
  "language_info": {
   "codemirror_mode": {
    "name": "ipython",
    "version": 3
   },
   "file_extension": ".py",
   "mimetype": "text/x-python",
   "name": "python",
   "nbconvert_exporter": "python",
   "pygments_lexer": "ipython3",
   "version": "3.8.12"
  }
 },
 "nbformat": 4,
 "nbformat_minor": 5
}
