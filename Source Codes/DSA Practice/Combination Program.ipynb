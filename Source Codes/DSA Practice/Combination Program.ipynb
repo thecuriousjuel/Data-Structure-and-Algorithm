{
 "cells": [
  {
   "cell_type": "raw",
   "id": "75397f87",
   "metadata": {},
   "source": [
    "   n!\n",
    "--------\n",
    "r!(n-r)!"
   ]
  },
  {
   "cell_type": "code",
   "execution_count": 9,
   "id": "fc253c19",
   "metadata": {},
   "outputs": [
    {
     "data": {
      "text/plain": [
       "10"
      ]
     },
     "execution_count": 9,
     "metadata": {},
     "output_type": "execute_result"
    }
   ],
   "source": [
    "def factorial(n):\n",
    "    if n <= 1:\n",
    "        return n\n",
    "    else:\n",
    "        f = n * factorial(n-1)\n",
    "        return f\n",
    "        \n",
    "n = 5\n",
    "r = 3\n",
    "        \n",
    "n_fact = factorial(n)\n",
    "r_fact = factorial(r)\n",
    "n_1_fact = factorial(n - r)\n",
    "\n",
    "# print(n_fact)\n",
    "# print(r_fact)\n",
    "# print(n_1_fact)\n",
    "    \n",
    "n_fact // (r_fact * n_1_fact)    "
   ]
  },
  {
   "cell_type": "code",
   "execution_count": null,
   "id": "52f18168",
   "metadata": {},
   "outputs": [],
   "source": []
  }
 ],
 "metadata": {
  "kernelspec": {
   "display_name": "Python 3 (ipykernel)",
   "language": "python",
   "name": "python3"
  },
  "language_info": {
   "codemirror_mode": {
    "name": "ipython",
    "version": 3
   },
   "file_extension": ".py",
   "mimetype": "text/x-python",
   "name": "python",
   "nbconvert_exporter": "python",
   "pygments_lexer": "ipython3",
   "version": "3.8.12"
  }
 },
 "nbformat": 4,
 "nbformat_minor": 5
}
