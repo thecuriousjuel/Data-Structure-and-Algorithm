{
 "cells": [
  {
   "cell_type": "code",
   "execution_count": 83,
   "id": "14a5eaee",
   "metadata": {},
   "outputs": [],
   "source": [
    "\n",
    "def subArraySum(arr, n, s): \n",
    "#     for i in range(n):\n",
    "#         print(arr[:i+1])\n",
    "#         print(arr[1:i+1])\n",
    "#         print(arr[2:i+1])\n",
    "\n",
    "#     for i in range(n):\n",
    "#         print(arr[:i+1])\n",
    "        \n",
    "    k = 0\n",
    "    for i in range(n):\n",
    "        print(arr[k:i+1])\n",
    "        k += 1\n",
    "    \n",
    "\n",
    "    \n",
    "    \n",
    "#         print(arr[i:])\n",
    "        \n",
    "#         for j in range(i+1, n+1):\n",
    "#             print(arr[i:j])\n",
    "#             if sum(arr[i:j]) == s:\n",
    "#                 return (i+1, j)\n",
    "    return [-1]\n",
    "            \n",
    "\n",
    "#     return [0]\n",
    "    \n",
    "    \n"
   ]
  },
  {
   "cell_type": "code",
   "execution_count": 84,
   "id": "90f7408a",
   "metadata": {},
   "outputs": [
    {
     "name": "stdout",
     "output_type": "stream",
     "text": [
      "[1]\n",
      "[2]\n",
      "[3]\n",
      "[7]\n",
      "[5]\n"
     ]
    },
    {
     "data": {
      "text/plain": [
       "[-1]"
      ]
     },
     "execution_count": 84,
     "metadata": {},
     "output_type": "execute_result"
    }
   ],
   "source": [
    "subArraySum([1,2,3,7,5], 5, 12)"
   ]
  },
  {
   "cell_type": "code",
   "execution_count": 29,
   "id": "e084e8fd",
   "metadata": {},
   "outputs": [
    {
     "data": {
      "text/plain": [
       "(1, 5)"
      ]
     },
     "execution_count": 29,
     "metadata": {},
     "output_type": "execute_result"
    }
   ],
   "source": [
    "subArraySum([1,2,3,4,5,6,7,8,9,10], 10, 15)"
   ]
  },
  {
   "cell_type": "code",
   "execution_count": 87,
   "id": "269b8e05",
   "metadata": {},
   "outputs": [],
   "source": [
    "stack = [1,2,3]"
   ]
  },
  {
   "cell_type": "code",
   "execution_count": 88,
   "id": "fcb2488f",
   "metadata": {},
   "outputs": [
    {
     "ename": "SyntaxError",
     "evalue": "can't use starred expression here (Temp/ipykernel_3628/1270455924.py, line 1)",
     "output_type": "error",
     "traceback": [
      "\u001b[1;36m  File \u001b[1;32m\"C:\\Users\\juelb\\AppData\\Local\\Temp/ipykernel_3628/1270455924.py\"\u001b[1;36m, line \u001b[1;32m1\u001b[0m\n\u001b[1;33m    *stack\u001b[0m\n\u001b[1;37m    ^\u001b[0m\n\u001b[1;31mSyntaxError\u001b[0m\u001b[1;31m:\u001b[0m can't use starred expression here\n"
     ]
    }
   ],
   "source": [
    "*stack"
   ]
  },
  {
   "cell_type": "code",
   "execution_count": null,
   "id": "eb0210c3",
   "metadata": {},
   "outputs": [],
   "source": []
  }
 ],
 "metadata": {
  "kernelspec": {
   "display_name": "Python 3 (ipykernel)",
   "language": "python",
   "name": "python3"
  },
  "language_info": {
   "codemirror_mode": {
    "name": "ipython",
    "version": 3
   },
   "file_extension": ".py",
   "mimetype": "text/x-python",
   "name": "python",
   "nbconvert_exporter": "python",
   "pygments_lexer": "ipython3",
   "version": "3.8.12"
  }
 },
 "nbformat": 4,
 "nbformat_minor": 5
}
