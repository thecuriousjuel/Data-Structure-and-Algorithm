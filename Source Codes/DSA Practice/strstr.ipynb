{
 "cells": [
  {
   "cell_type": "code",
   "execution_count": 25,
   "id": "2f64e026",
   "metadata": {},
   "outputs": [
    {
     "data": {
      "text/plain": [
       "2"
      ]
     },
     "execution_count": 25,
     "metadata": {},
     "output_type": "execute_result"
    }
   ],
   "source": [
    "def func(t, p):\n",
    "    k = 0\n",
    "    count = 0\n",
    "    for i in range(len(t)):\n",
    "        if t[i] == p[k] and k < len(p):\n",
    "            k += 1\n",
    "            if k == len(p):\n",
    "                count += 1\n",
    "                k = 0\n",
    "        else:\n",
    "            k = 0\n",
    "            \n",
    "    return count\n",
    "\n",
    "\n",
    "\n",
    "func('kkabxxxxxcchhdbbfkkebcjjjdabckk', 'd')"
   ]
  },
  {
   "cell_type": "code",
   "execution_count": 26,
   "id": "a52ecb0d",
   "metadata": {},
   "outputs": [
    {
     "data": {
      "text/plain": [
       "2"
      ]
     },
     "execution_count": 26,
     "metadata": {},
     "output_type": "execute_result"
    }
   ],
   "source": [
    "'kkabxxxxxcchhdbbfkkebcjjjdabckk'.count('d')"
   ]
  },
  {
   "cell_type": "code",
   "execution_count": null,
   "id": "8fa1a4d1",
   "metadata": {},
   "outputs": [],
   "source": []
  }
 ],
 "metadata": {
  "kernelspec": {
   "display_name": "Python 3 (ipykernel)",
   "language": "python",
   "name": "python3"
  },
  "language_info": {
   "codemirror_mode": {
    "name": "ipython",
    "version": 3
   },
   "file_extension": ".py",
   "mimetype": "text/x-python",
   "name": "python",
   "nbconvert_exporter": "python",
   "pygments_lexer": "ipython3",
   "version": "3.8.12"
  }
 },
 "nbformat": 4,
 "nbformat_minor": 5
}
