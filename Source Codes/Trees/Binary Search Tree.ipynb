{
 "cells": [
  {
   "cell_type": "code",
   "execution_count": 1,
   "id": "26fa6c1a",
   "metadata": {},
   "outputs": [],
   "source": [
    "import random"
   ]
  },
  {
   "cell_type": "code",
   "execution_count": 2,
   "id": "18204051",
   "metadata": {},
   "outputs": [],
   "source": [
    "class Node:\n",
    "    def __init__(self, key):\n",
    "        self.key = key\n",
    "        self.left = None\n",
    "        self.right = None\n",
    "        \n",
    "        \n",
    "class Tree:\n",
    "    def __init__(self):\n",
    "        self.root = None\n",
    "        \n",
    "        \n",
    "    def create_bst(self, parent_node, new_node):\n",
    "        if new_node.key < parent_node.key:\n",
    "            if parent_node.left == None:\n",
    "                parent_node.left = new_node\n",
    "            else:\n",
    "                self.create_bst(parent_node.left, new_node)\n",
    "                \n",
    "        else:\n",
    "            if parent_node.right == None:\n",
    "                parent_node.right = new_node\n",
    "            else:\n",
    "                self.create_bst(parent_node.right, new_node)\n",
    "        \n",
    "        \n",
    "    def insert(self, key):\n",
    "        new_node = Node(key)\n",
    "        if self.root == None:\n",
    "            self.root = new_node\n",
    "        else:\n",
    "            self.create_bst(self.root, new_node)\n",
    "            \n",
    "            \n",
    "    def find_inorder_successor(self, this_node):\n",
    "        my_val = this_node\n",
    "        while my_val.left:\n",
    "            my_val = my_val.left\n",
    "        \n",
    "        return my_val\n",
    "        \n",
    "    \n",
    "    def delete_node(self, this_node, key):\n",
    "        if this_node is None:\n",
    "            return 'Node doesnt exists'\n",
    "        \n",
    "        if key < this_node.key:\n",
    "            this_node.left = self.delete_node(this_node.left, key)\n",
    "        elif key > this_node.key:\n",
    "            this_node.right = self.delete_node(this_node.right, key)\n",
    "            \n",
    "        else:\n",
    "            \n",
    "            # Case with no child or 1 child\n",
    "            \n",
    "            if this_node.left is None:\n",
    "                temp = this_node.right\n",
    "                this_node = None\n",
    "                return temp\n",
    "            \n",
    "            elif this_node.right is None:\n",
    "                temp = this_node.left\n",
    "                this_node = None\n",
    "                return temp\n",
    "            \n",
    "            \n",
    "            # Case with 2 children\n",
    "            \n",
    "            temp = self.find_inorder_successor(this_node.right)\n",
    "            \n",
    "            this_node.key = temp.key\n",
    "            this_node.right = self.delete_node(this_node.right, temp.key)\n",
    "                \n",
    "        return this_node\n",
    "        \n",
    "        \n",
    "    def search(self, this_node, key):\n",
    "        if this_node is None:\n",
    "            print('Key not Found!')\n",
    "            return False\n",
    "        \n",
    "        elif this_node.key == key:\n",
    "            print('Key was found!')\n",
    "            return True\n",
    "        elif key < this_node.key:\n",
    "            self.search(this_node.left, key)\n",
    "        else:\n",
    "            self.search(this_node.right, key)\n",
    "        \n",
    "        \n",
    "    def preorder(self, this_node):\n",
    "        if this_node:\n",
    "            print(this_node.key, end = ' ')\n",
    "            self.preorder(this_node.left)\n",
    "            self.preorder(this_node.right)\n",
    "            \n",
    "        \n",
    "    def inorder(self, this_node):\n",
    "        if this_node:\n",
    "            self.inorder(this_node.left)\n",
    "            print(this_node.key, end = ' ')\n",
    "            self.inorder(this_node.right)\n",
    "            \n",
    "        \n",
    "    def postorder(self, this_node):\n",
    "        if this_node:\n",
    "            self.postorder(this_node.left)\n",
    "            self.postorder(this_node.right)\n",
    "            print(this_node.key, end = ' ')\n",
    "\n"
   ]
  },
  {
   "cell_type": "code",
   "execution_count": 3,
   "id": "aef78705",
   "metadata": {},
   "outputs": [
    {
     "name": "stdout",
     "output_type": "stream",
     "text": [
      "Generating these numbers : \n",
      "PreOrder : 5 4 2 3 7 6 10 \n",
      "Inorder : 2 3 4 5 6 7 10 \n",
      "PostOrder : 3 2 4 6 10 7 5 "
     ]
    }
   ],
   "source": [
    "random.seed(1)\n",
    "\n",
    "tree = Tree()\n",
    "\n",
    "print('Generating these numbers : ', end = '')\n",
    "# for i in range(10):\n",
    "#     num = random.randint(10, 100)\n",
    "#     tree.insert(num)\n",
    "#     print(num, end=' ')\n",
    "print()\n",
    "\n",
    "tree.insert(5)\n",
    "tree.insert(4)\n",
    "tree.insert(7)\n",
    "tree.insert(2)\n",
    "tree.insert(3)\n",
    "tree.insert(6)\n",
    "tree.insert(10)\n",
    "\n",
    "print('PreOrder : ', end = '')\n",
    "tree.preorder(tree.root)\n",
    "\n",
    "print('\\nInorder : ', end = '')\n",
    "tree.inorder(tree.root)\n",
    "\n",
    "print('\\nPostOrder : ', end = '')\n",
    "tree.postorder(tree.root)"
   ]
  },
  {
   "cell_type": "markdown",
   "id": "8bdd6574",
   "metadata": {},
   "source": [
    "# Searching"
   ]
  },
  {
   "cell_type": "code",
   "execution_count": 4,
   "id": "14953fca",
   "metadata": {},
   "outputs": [
    {
     "name": "stdout",
     "output_type": "stream",
     "text": [
      "Key not Found!\n"
     ]
    }
   ],
   "source": [
    "tree.search(tree.root, 11)"
   ]
  },
  {
   "cell_type": "code",
   "execution_count": 5,
   "id": "8d2c95c7",
   "metadata": {},
   "outputs": [
    {
     "name": "stdout",
     "output_type": "stream",
     "text": [
      "Key was found!\n"
     ]
    }
   ],
   "source": [
    "tree.search(tree.root, 6)"
   ]
  },
  {
   "cell_type": "markdown",
   "id": "3d217241",
   "metadata": {},
   "source": [
    "# Inorder Successor"
   ]
  },
  {
   "cell_type": "code",
   "execution_count": 6,
   "id": "12125fcd",
   "metadata": {},
   "outputs": [
    {
     "data": {
      "text/plain": [
       "6"
      ]
     },
     "execution_count": 6,
     "metadata": {},
     "output_type": "execute_result"
    }
   ],
   "source": [
    "tree.find_inorder_successor(tree.root.right).key"
   ]
  },
  {
   "cell_type": "markdown",
   "id": "59dc921c",
   "metadata": {},
   "source": [
    "# Deletion"
   ]
  },
  {
   "cell_type": "code",
   "execution_count": 7,
   "id": "aa9bc745",
   "metadata": {},
   "outputs": [
    {
     "data": {
      "text/plain": [
       "5"
      ]
     },
     "execution_count": 7,
     "metadata": {},
     "output_type": "execute_result"
    }
   ],
   "source": [
    "tree.delete_node(tree.root, 7).key"
   ]
  },
  {
   "cell_type": "code",
   "execution_count": 8,
   "id": "b8b745eb",
   "metadata": {},
   "outputs": [
    {
     "name": "stdout",
     "output_type": "stream",
     "text": [
      "2 3 4 5 6 10 "
     ]
    }
   ],
   "source": [
    "tree.inorder(tree.root)"
   ]
  },
  {
   "cell_type": "code",
   "execution_count": null,
   "id": "f1701d88",
   "metadata": {},
   "outputs": [],
   "source": []
  }
 ],
 "metadata": {
  "interpreter": {
   "hash": "3a39ccfb2c4b5227bcb4bb3148c1ad22455bfc794ab367f094d76d66c5fd606a"
  },
  "kernelspec": {
   "display_name": "Python 3 (ipykernel)",
   "language": "python",
   "name": "python3"
  },
  "language_info": {
   "codemirror_mode": {
    "name": "ipython",
    "version": 3
   },
   "file_extension": ".py",
   "mimetype": "text/x-python",
   "name": "python",
   "nbconvert_exporter": "python",
   "pygments_lexer": "ipython3",
   "version": "3.8.12"
  }
 },
 "nbformat": 4,
 "nbformat_minor": 5
}
