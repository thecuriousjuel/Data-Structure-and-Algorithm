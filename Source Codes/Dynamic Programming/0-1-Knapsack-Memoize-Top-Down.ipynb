{
 "cells": [
  {
   "cell_type": "code",
   "execution_count": 1,
   "id": "f0dd7d7e",
   "metadata": {},
   "outputs": [],
   "source": [
    "# val = [60, 100, 120]\n",
    "# wt = [10, 20, 30]\n",
    "# n = 3\n",
    "# W = 50\n",
    "\n",
    "# t = [[-1 for i in range(W+1)] for j in range(n+1)]\n",
    "\n",
    "# def knapsack(wt, val, W, n):\n",
    "#     if n == 0 or W == 0:\n",
    "#         return 0\n",
    "    \n",
    "#     if t[n][W] != -1:\n",
    "#         return t[n][W]\n",
    "        \n",
    "    \n",
    "#     if wt[n-1] <= W:\n",
    "#         t[n][W] = max(val[n-1] + knapsack(wt, val, W-wt[n-1], n-1),\n",
    "#                   knapsack(wt, val, W, n-1))\n",
    "#         return t[n][W]\n",
    "            \n",
    "#     else:\n",
    "#         t[n][W] = knapsack(wt, val, W, n-1)\n",
    "#         return t[n][W]\n",
    "    \n",
    "    \n"
   ]
  },
  {
   "cell_type": "code",
   "execution_count": 2,
   "id": "409acef1",
   "metadata": {},
   "outputs": [
    {
     "data": {
      "text/plain": [
       "220"
      ]
     },
     "execution_count": 2,
     "metadata": {},
     "output_type": "execute_result"
    }
   ],
   "source": [
    "knapsack(wt, val, W, n)"
   ]
  },
  {
   "cell_type": "code",
   "execution_count": null,
   "id": "f1572825",
   "metadata": {},
   "outputs": [],
   "source": []
  }
 ],
 "metadata": {
  "kernelspec": {
   "display_name": "Python 3 (ipykernel)",
   "language": "python",
   "name": "python3"
  },
  "language_info": {
   "codemirror_mode": {
    "name": "ipython",
    "version": 3
   },
   "file_extension": ".py",
   "mimetype": "text/x-python",
   "name": "python",
   "nbconvert_exporter": "python",
   "pygments_lexer": "ipython3",
   "version": "3.8.12"
  }
 },
 "nbformat": 4,
 "nbformat_minor": 5
}
