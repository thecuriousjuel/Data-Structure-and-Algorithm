{
 "cells": [
  {
   "cell_type": "code",
   "execution_count": 60,
   "id": "1a2018ab",
   "metadata": {},
   "outputs": [],
   "source": [
    "def ispar(x):\n",
    "        \n",
    "    stack = []\n",
    "\n",
    "    start_sym = '[{('\n",
    "    end_sym = ']})'\n",
    "\n",
    "    for i in x:\n",
    "    #     print(stack, i)\n",
    "        if i in start_sym:\n",
    "            stack.append(i)\n",
    "        elif i in end_sym:\n",
    "    #         print(f'{end_sym[start_sym.index(stack[-1])]} == {i}')\n",
    "            if not stack:\n",
    "                return False\n",
    "\n",
    "\n",
    "            if end_sym[start_sym.index(stack[-1])] == i:\n",
    "                stack.pop()\n",
    "            else:\n",
    "                return False\n",
    "\n",
    "    if stack:\n",
    "        return False\n",
    "\n",
    "    return True"
   ]
  },
  {
   "cell_type": "code",
   "execution_count": 61,
   "id": "88308f50",
   "metadata": {},
   "outputs": [
    {
     "data": {
      "text/plain": [
       "False"
      ]
     },
     "execution_count": 61,
     "metadata": {},
     "output_type": "execute_result"
    }
   ],
   "source": [
    "ispar('(')"
   ]
  },
  {
   "cell_type": "code",
   "execution_count": null,
   "id": "3a229e74",
   "metadata": {},
   "outputs": [],
   "source": []
  }
 ],
 "metadata": {
  "kernelspec": {
   "display_name": "Python 3 (ipykernel)",
   "language": "python",
   "name": "python3"
  },
  "language_info": {
   "codemirror_mode": {
    "name": "ipython",
    "version": 3
   },
   "file_extension": ".py",
   "mimetype": "text/x-python",
   "name": "python",
   "nbconvert_exporter": "python",
   "pygments_lexer": "ipython3",
   "version": "3.8.12"
  }
 },
 "nbformat": 4,
 "nbformat_minor": 5
}
